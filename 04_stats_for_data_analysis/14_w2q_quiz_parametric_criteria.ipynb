{
 "cells": [
  {
   "cell_type": "markdown",
   "metadata": {},
   "source": [
    "# Graded quiz. Параметрические критерии"
   ]
  },
  {
   "cell_type": "code",
   "execution_count": 1,
   "metadata": {
    "collapsed": true
   },
   "outputs": [
    {
     "data": {
      "image/png": "[encoded data removed]",
      "text/plain": [
       "<Figure size 2592x72 with 1 Axes>"
      ]
     },
     "metadata": {
      "needs_background": "light"
     },
     "output_type": "display_data"
    }
   ],
   "source": [
    "import pandas as pd\n",
    "import numpy as np\n",
    "import matplotlib as mpl\n",
    "import matplotlib.pyplot as plt\n",
    "import scipy.stats as sts\n",
    "from statsmodels.stats import weightstats as wsts\n",
    "from statsmodels.stats.proportion import proportion_confint\n",
    "from sklearn import model_selection as mdsel\n",
    "import seaborn as sns\n",
    "\n",
    "sns.set()\n",
    "sns.set_style(\"whitegrid\")\n",
    "\n",
    "color_palette = sns.color_palette('deep') + sns.color_palette('husl', 6) + sns.color_palette('bright') + sns.color_palette('pastel')\n",
    "\n",
    "%matplotlib inline\n",
    "sns.palplot(color_palette)\n",
    "\n",
    "def ndprint(a, precision=3):\n",
    "    with np.printoptions(precision=precision, suppress=True):\n",
    "        print(a)\n",
    "        \n",
    "def r4(*kargs):\n",
    "    return [round(x, 4) for x in kargs] if len(kargs) > 1 else round(kargs[0], 4)\n",
    "\n",
    "def r4s(a):\n",
    "    return r4(*a)"
   ]
  },
  {
   "cell_type": "markdown",
   "metadata": {},
   "source": [
    "## 03. Question 3\n",
    "\n",
    "В одном из выпусков программы \"Разрушители легенд\" проверялось, действительно ли заразительна зевота. В эксперименте участвовало 50 испытуемых, проходивших собеседование на программу. Каждый из них разговаривал с рекрутером; в конце 34 из 50 бесед рекрутер зевал. Затем испытуемых просили подождать решения рекрутера в соседней пустой комнате.\n",
    "\n",
    "Во время ожидания 10 из 34 испытуемых экспериментальной группы и 4 из 16 испытуемых контрольной начали зевать. Таким образом, разница в доле зевающих людей в этих двух группах составила примерно 4.4%. Ведущие заключили, что миф о заразительности зевоты подтверждён.\n",
    "\n",
    "Можно ли утверждать, что доли зевающих в контрольной и экспериментальной группах отличаются статистически значимо? Посчитайте достигаемый уровень значимости при альтернативе заразительности зевоты, округлите до четырёх знаков после десятичной точки."
   ]
  },
  {
   "cell_type": "code",
   "execution_count": 49,
   "metadata": {},
   "outputs": [
    {
     "name": "stdout",
     "output_type": "stream",
     "text": [
      "0.3729\n"
     ]
    }
   ],
   "source": [
    "def proportions_diff_z_stat_ind(n1, n2, k1, k2):\n",
    "    p1 = float(k1) / n1\n",
    "    p2 = float(k2) / n2\n",
    "    P = float(p1*n1 + p2*n2) / (n1 + n2)\n",
    "    return (p1 - p2) / np.sqrt(P * (1 - P) * (1. / n1 + 1. / n2))\n",
    "\n",
    "def z_test(z_stat, alternative = 'two-sided'):\n",
    "    if alternative not in ('two-sided', 'less', 'greater'):\n",
    "        raise ValueError(\"alternative not recognized: should be 'two-sided', 'less' or 'greater'\")\n",
    "\n",
    "    if alternative == 'two-sided':\n",
    "        return 2 * (1 - sts.norm.cdf(np.abs(z_stat)))\n",
    "\n",
    "    if alternative == 'less':\n",
    "        return sts.norm.cdf(z_stat)\n",
    "\n",
    "    if alternative == 'greater':\n",
    "        return 1 - sts.norm.cdf(z_stat)\n",
    "\n",
    "# independent samples\n",
    "n1 = 34\n",
    "n2 = 16\n",
    "\n",
    "k1 = 10\n",
    "k2 = 4\n",
    "\n",
    "print r4(z_test(proportions_diff_z_stat_ind(n1, n2, k1, k2), 'greater'))"
   ]
  },
  {
   "cell_type": "markdown",
   "metadata": {},
   "source": [
    "## 04. Question 4\n",
    "Имеются данные измерений двухсот швейцарских тысячефранковых банкнот, бывших в обращении в первой половине XX века. Сто из банкнот были настоящими, и сто — поддельными.\n",
    "\n",
    "Отделите 50 случайных наблюдений в тестовую выборку с помощью функции sklearn.model_selection.train_test_split (зафиксируйте random state = 1). На оставшихся 150 настройте два классификатора поддельности банкнот:\n",
    "\n",
    "- логистическая регрессия по признакам $X_1,X_2,X_3$\n",
    "- логистическая регрессия по признакам $X_4,X_5,X_6$\n",
    "\n",
    "Каждым из классификаторов сделайте предсказания меток классов на тестовой выборке. Одинаковы ли доли ошибочных предсказаний двух классификаторов? Проверьте гипотезу, вычислите достигаемый уровень значимости. Введите номер первой значащей цифры (например, если вы получили $5.5 \\times 10^{-8}$, нужно ввести 8)."
   ]
  },
  {
   "cell_type": "code",
   "execution_count": 56,
   "metadata": {},
   "outputs": [
    {
     "name": "stdout",
     "output_type": "stream",
     "text": [
      "0.8 0.98\n",
      "0.0032969384555543435\n",
      "3\n",
      "Wall time: 41 ms\n"
     ]
    }
   ],
   "source": [
    "%%time\n",
    "from sklearn.linear_model import LogisticRegression\n",
    "from sklearn.metrics import accuracy_score\n",
    "\n",
    "def fit_predict(model, train, test, features, target):\n",
    "    model.fit(train[features], train[target])\n",
    "    return model.predict(test[features])\n",
    "\n",
    "def proportions_diff_z_stat_rel(sample1, sample2):\n",
    "    n = len(sample1)\n",
    "\n",
    "    f = np.sum(np.logical_and(sample1 == 1, sample2 == 0))\n",
    "    g = np.sum(np.logical_and(sample1 == 0, sample2 == 1))\n",
    "\n",
    "    return float(f - g) / np.sqrt(f + g - float((f - g)**2) / n )\n",
    "\n",
    "data = pd.read_csv('data/14_banknotes.txt', sep='\\t')\n",
    "data.sample()\n",
    "\n",
    "train, test = mdsel.train_test_split(data, test_size=50, shuffle=True, random_state=1)\n",
    "\n",
    "features1 = data.columns[:3]\n",
    "features2 = data.columns[3:6]\n",
    "\n",
    "pr1 = fit_predict(LogisticRegression(), train, test, features1, 'real')\n",
    "pr2 = fit_predict(LogisticRegression(), train, test, features2, 'real')\n",
    "\n",
    "print accuracy_score(pr1, test.real), accuracy_score(pr2, test.real)\n",
    "\n",
    "epr1 = pr1 != test.real\n",
    "epr2 = pr2 != test.real\n",
    "\n",
    "p_value = z_test(proportions_diff_z_stat_rel(epr1, epr2))\n",
    "# p_value = z_test(proportions_diff_z_stat_ind(n, n, sum(epr1), sum(epr2)))\n",
    "\n",
    "print p_value\n",
    "print int(np.ceil(-np.log10(p_value)))"
   ]
  },
  {
   "cell_type": "markdown",
   "metadata": {},
   "source": [
    "## 05. Question 5\n",
    "\n",
    "В предыдущей задаче посчитайте 95% доверительный интервал для разности долей ошибок двух классификаторов. Чему равна его ближайшая к нулю граница? Округлите до четырёх знаков после десятичной точки."
   ]
  },
  {
   "cell_type": "code",
   "execution_count": 58,
   "metadata": {},
   "outputs": [
    {
     "name": "stdout",
     "output_type": "stream",
     "text": [
      "0.0599\n",
      "0.0625\n"
     ]
    }
   ],
   "source": [
    "def proportions_diff_confint_rel(sample1, sample2, alpha = 0.05):\n",
    "    z = sts.norm.ppf(1 - alpha / 2.)\n",
    "    n = len(sample1)\n",
    "\n",
    "    f = np.sum(np.logical_and(sample1 == 1, sample2 == 0))\n",
    "    g = np.sum(np.logical_and(sample1 == 0, sample2 == 1))\n",
    "\n",
    "    boundary = z * np.sqrt(float((f + g)) / n**2 - float((f - g)**2) / n**3)\n",
    "\n",
    "    left_boundary = float(f - g) / n - boundary\n",
    "    right_boundary = float(f - g) / n + boundary\n",
    "    return (left_boundary, right_boundary)\n",
    "\n",
    "def proportions_diff_confint_ind(sample1, sample2, alpha = 0.05):\n",
    "    z = sts.norm.ppf(1 - alpha / 2.)\n",
    "    n1 = len(sample1)\n",
    "    n2 = len(sample2)\n",
    "\n",
    "    p1 = float(sum(sample1)) / n1\n",
    "    q1 = 1 - p1\n",
    "    p2 = float(sum(sample2)) / n2\n",
    "    q2 = 1 - p2\n",
    "    normed_S = np.sqrt(p1 * q1 / n1 + p2 * q2 / n2)\n",
    "\n",
    "    left_boundary = (p1 - p2) - z * normed_S\n",
    "    right_boundary = (p1 - p2) + z * normed_S\n",
    "\n",
    "    return (left_boundary, right_boundary)\n",
    "\n",
    "confint = proportions_diff_confint_rel(epr1, epr2)\n",
    "print r4(confint[0])\n",
    "\n",
    "confint = proportions_diff_confint_ind(epr1, epr2)\n",
    "print r4(confint[0])"
   ]
  },
  {
   "cell_type": "markdown",
   "metadata": {},
   "source": [
    "## 06. Question 6\n",
    "\n",
    "Ежегодно более 200000 людей по всему миру сдают стандартизированный экзамен GMAT при поступлении на программы MBA. Средний результат составляет 525 баллов, стандартное отклонение — 100 баллов.\n",
    "\n",
    "Сто студентов закончили специальные подготовительные курсы и сдали экзамен. Средний полученный ими балл — 541.4. Проверьте гипотезу о неэффективности программы против односторонней альтернативы о том, что программа работает. Отвергается ли на уровне значимости 0.05 нулевая гипотеза? Введите достигаемый уровень значимости, округлённый до 4 знаков после десятичной точки."
   ]
  },
  {
   "cell_type": "code",
   "execution_count": 47,
   "metadata": {},
   "outputs": [
    {
     "name": "stdout",
     "output_type": "stream",
     "text": [
      "0.0505\n"
     ]
    }
   ],
   "source": [
    "# from 200000\n",
    "mu = 525\n",
    "sigma = 100\n",
    "\n",
    "n = 100\n",
    "avg = 541.4\n",
    "\n",
    "print r4(z_test((avg - mu) / (sigma/np.sqrt(n)), 'greater'))"
   ]
  },
  {
   "cell_type": "markdown",
   "metadata": {},
   "source": [
    "## 07. Question 7\n",
    "\n",
    "Оцените теперь эффективность подготовительных курсов, средний балл 100 выпускников которых равен 541.5. Отвергается ли на уровне значимости 0.05 та же самая нулевая гипотеза против той же самой альтернативы? Введите достигаемый уровень значимости, округлённый до 4 знаков после десятичной точки."
   ]
  },
  {
   "cell_type": "code",
   "execution_count": 48,
   "metadata": {},
   "outputs": [
    {
     "name": "stdout",
     "output_type": "stream",
     "text": [
      "0.0495\n"
     ]
    }
   ],
   "source": [
    "avg = 541.5\n",
    "print r4(z_test((avg - mu) / (sigma/np.sqrt(n)), 'greater'))"
   ]
  }
 ],
 "metadata": {
  "kernelspec": {
   "display_name": "Python 2",
   "language": "python",
   "name": "python2"
  },
  "language_info": {
   "codemirror_mode": {
    "name": "ipython",
    "version": 2
   },
   "file_extension": ".py",
   "mimetype": "text/x-python",
   "name": "python",
   "nbconvert_exporter": "python",
   "pygments_lexer": "ipython2",
   "version": "2.7.14"
  }
 },
 "nbformat": 4,
 "nbformat_minor": 2
}
