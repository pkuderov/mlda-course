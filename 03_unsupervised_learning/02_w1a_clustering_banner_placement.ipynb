{
 "cells": [
  {
   "cell_type": "markdown",
   "metadata": {},
   "source": [
    "# Programming Assignment: Размещение баннеров"
   ]
  },
  {
   "cell_type": "code",
   "execution_count": 17,
   "metadata": {},
   "outputs": [
    {
     "data": {
      "image/png": "[encoded data removed]",
      "text/plain": [
       "<Figure size 1728x72 with 1 Axes>"
      ]
     },
     "metadata": {
      "needs_background": "light"
     },
     "output_type": "display_data"
    }
   ],
   "source": [
    "import pandas as pd\n",
    "import numpy as np\n",
    "import matplotlib as mpl\n",
    "import matplotlib.pyplot as plt\n",
    "import scipy.stats as sts\n",
    "import seaborn as sns\n",
    "from contextlib import contextmanager\n",
    "\n",
    "sns.set()\n",
    "sns.set_style(\"whitegrid\")\n",
    "\n",
    "color_palette = sns.color_palette('deep') + sns.color_palette('husl', 6) + sns.color_palette('bright') + sns.color_palette('pastel')\n",
    "\n",
    "%matplotlib inline\n",
    "sns.palplot(color_palette)\n",
    "\n",
    "def ndprint(a, precision=3):\n",
    "    with np.printoptions(precision=precision, suppress=True):\n",
    "        print(a)"
   ]
  },
  {
   "cell_type": "markdown",
   "metadata": {},
   "source": [
    "## Problem"
   ]
  },
  {
   "cell_type": "markdown",
   "metadata": {},
   "source": [
    "Представим, что международное круизное агентство Carnival Cruise Line решило себя разрекламировать с помощью баннеров и обратилось для этого к вам. Чтобы протестировать, велика ли от таких баннеров польза, их будет размещено всего 20 штук по всему миру. Вам надо выбрать 20 таких локаций для размещения, чтобы польза была большой и агентство продолжило с вами сотрудничать.\n",
    "\n",
    "Агентство крупное, и у него есть несколько офисов по всему миру. Вблизи этих офисов оно и хочет разместить баннеры — легче договариваться и проверять результат. Также эти места должны быть популярны среди туристов."
   ]
  },
  {
   "cell_type": "markdown",
   "metadata": {},
   "source": [
    "## Get data"
   ]
  },
  {
   "cell_type": "markdown",
   "metadata": {},
   "source": [
    "Для поиска оптимальных мест воспользуемся базой данных крупнейшей социальной сети, основанной на локациях — Foursquare.\n",
    "\n",
    "Часть открытых данных есть, например, на сайте archive.org:\n",
    "\n",
    "https://archive.org/details/201309_foursquare_dataset_umn\n",
    "\n",
    "Скачаем любым удобным образом архив fsq.zip с этой страницы."
   ]
  },
  {
   "cell_type": "code",
   "execution_count": 18,
   "metadata": {},
   "outputs": [],
   "source": [
    "import os.path\n",
    "import requests\n",
    "from zipfile import ZipFile\n",
    "\n",
    "def fetch_file(url, filename):\n",
    "    if os.path.exists(filename):\n",
    "        return\n",
    "    response = requests.get(url, stream=True)\n",
    "    with open(filename, \"wb\") as handle:\n",
    "        for data in response.iter_content():\n",
    "            handle.write(data)            \n",
    "\n",
    "def extract_zip(from_path, to_path):\n",
    "    with ZipFile(from_path, 'r') as zip_ref:\n",
    "        zip_ref.extractall(to_path)\n",
    "        \n",
    "def fetch_data():\n",
    "    if os.path.exists('data/02_checkins.csv'):\n",
    "        return\n",
    "    \n",
    "    # download zip dataset to temp\n",
    "    tmp_path = os.path.expanduser('~/AppData/Local/Temp/')\n",
    "    dataset_zip = os.path.join(tmp_path, 'foursquare_dataset.zip')\n",
    "    fetch_file('https://archive.org/download/201309_foursquare_dataset_umn/fsq.zip', dataset_zip)\n",
    "    \n",
    "    # extract zip\n",
    "    extracted_data_path = os.path.join(tmp_path, 'foursquare_dataset')\n",
    "    extract_zip(dataset_zip, extracted_data_path)\n",
    "    \n",
    "    # read, clean, save to `data` folder\n",
    "    extracted_data_path = os.path.join(tmp_path, 'foursquare_dataset/umn_foursquare_datasets/checkins.dat')\n",
    "    data = pd.read_csv(extracted_data_path, sep='|', low_memory=False, skiprows=[1], skipinitialspace=True, usecols=[3, 4])\n",
    "    data.dropna(inplace=True)\n",
    "    data.columns = [col.strip() for col in data.columns]\n",
    "\n",
    "    data.to_csv('data/02_checkins.csv')\n",
    "    \n",
    "fetch_data()"
   ]
  },
  {
   "cell_type": "markdown",
   "metadata": {},
   "source": [
    "Нас будет интересовать файл checkins.dat. Открыв его, увидим следующую структуру:"
   ]
  },
  {
   "cell_type": "code",
   "execution_count": 19,
   "metadata": {},
   "outputs": [
    {
     "name": "stdout",
     "output_type": "stream",
     "text": [
      "(396634, 3)\n"
     ]
    },
    {
     "data": {
      "text/html": [
       "<div>\n",
       "<style scoped>\n",
       "    .dataframe tbody tr th:only-of-type {\n",
       "        vertical-align: middle;\n",
       "    }\n",
       "\n",
       "    .dataframe tbody tr th {\n",
       "        vertical-align: top;\n",
       "    }\n",
       "\n",
       "    .dataframe thead th {\n",
       "        text-align: right;\n",
       "    }\n",
       "</style>\n",
       "<table border=\"1\" class=\"dataframe\">\n",
       "  <thead>\n",
       "    <tr style=\"text-align: right;\">\n",
       "      <th></th>\n",
       "      <th>ind</th>\n",
       "      <th>latitude</th>\n",
       "      <th>longitude</th>\n",
       "    </tr>\n",
       "  </thead>\n",
       "  <tbody>\n",
       "    <tr>\n",
       "      <th>0</th>\n",
       "      <td>1</td>\n",
       "      <td>38.895112</td>\n",
       "      <td>-77.036366</td>\n",
       "    </tr>\n",
       "    <tr>\n",
       "      <th>1</th>\n",
       "      <td>3</td>\n",
       "      <td>33.800745</td>\n",
       "      <td>-84.410520</td>\n",
       "    </tr>\n",
       "    <tr>\n",
       "      <th>2</th>\n",
       "      <td>7</td>\n",
       "      <td>45.523452</td>\n",
       "      <td>-122.676207</td>\n",
       "    </tr>\n",
       "    <tr>\n",
       "      <th>3</th>\n",
       "      <td>9</td>\n",
       "      <td>40.764462</td>\n",
       "      <td>-111.904565</td>\n",
       "    </tr>\n",
       "    <tr>\n",
       "      <th>4</th>\n",
       "      <td>10</td>\n",
       "      <td>33.448377</td>\n",
       "      <td>-112.074037</td>\n",
       "    </tr>\n",
       "  </tbody>\n",
       "</table>\n",
       "</div>"
      ],
      "text/plain": [
       "   ind   latitude   longitude\n",
       "0    1  38.895112  -77.036366\n",
       "1    3  33.800745  -84.410520\n",
       "2    7  45.523452 -122.676207\n",
       "3    9  40.764462 -111.904565\n",
       "4   10  33.448377 -112.074037"
      ]
     },
     "execution_count": 19,
     "metadata": {},
     "output_type": "execute_result"
    }
   ],
   "source": [
    "data = pd.read_csv('data/02_checkins.csv')\n",
    "print(data.shape)\n",
    "data.head()"
   ]
  },
  {
   "cell_type": "code",
   "execution_count": 20,
   "metadata": {},
   "outputs": [],
   "source": [
    "from sklearn import metrics, model_selection as mdsel, cluster"
   ]
  },
  {
   "cell_type": "code",
   "execution_count": 37,
   "metadata": {},
   "outputs": [],
   "source": [
    "clusterizer = cluster.MeanShift(bandwidth=0.1)"
   ]
  },
  {
   "cell_type": "code",
   "execution_count": 39,
   "metadata": {},
   "outputs": [
    {
     "name": "stdout",
     "output_type": "stream",
     "text": [
      "Wall time: 4min 38s\n"
     ]
    }
   ],
   "source": [
    "%%time\n",
    "data_slice = data.loc[:100000, ['latitude', 'longitude']].values\n",
    "clusterizer.fit(data_slice)"
   ]
  },
  {
   "cell_type": "code",
   "execution_count": 40,
   "metadata": {},
   "outputs": [
    {
     "data": {
      "text/plain": [
       "array([ 5,  7, 30, 65,  1, 23,  0,  1,  2,  8], dtype=int64)"
      ]
     },
     "execution_count": 40,
     "metadata": {},
     "output_type": "execute_result"
    }
   ],
   "source": [
    "clusterizer.labels_[:10]"
   ]
  },
  {
   "cell_type": "code",
   "execution_count": 101,
   "metadata": {},
   "outputs": [
    {
     "data": {
      "text/plain": [
       "3230"
      ]
     },
     "execution_count": 101,
     "metadata": {},
     "output_type": "execute_result"
    }
   ],
   "source": [
    "np.max(clusterizer.labels_)"
   ]
  },
  {
   "cell_type": "code",
   "execution_count": 158,
   "metadata": {},
   "outputs": [
    {
     "name": "stdout",
     "output_type": "stream",
     "text": [
      "592\n",
      "(504, [15234, 20945, 25257, 38753, 39429, 40714, 44482, 50618, 58205, 70155, 70813, 76463, 79370, 95139, 95173, 95226, 95361, 95755, 95857, 96098, 96109])\n"
     ]
    }
   ],
   "source": [
    "from itertools import groupby\n",
    "from operator import itemgetter\n",
    "\n",
    "def get_centroid(cluster):\n",
    "    points = data_slice[cluster]\n",
    "    return np.mean(points, axis=0)\n",
    "\n",
    "clusters = [(cl, i) for i, cl in enumerate(clusterizer.labels_)]\n",
    "clusters.sort()\n",
    "\n",
    "clusters = [\n",
    "    (key, points)\n",
    "    for key, group in groupby(clusters, key=itemgetter(0))\n",
    "    for points in [[p[1] for p in group]]\n",
    "    if len(points) > 15\n",
    "]\n",
    "\n",
    "print(len(clusters))\n",
    "print(clusters[500])"
   ]
  },
  {
   "cell_type": "code",
   "execution_count": 159,
   "metadata": {},
   "outputs": [],
   "source": [
    "offices = np.array([\n",
    "    [33.751277, -118.188740],\n",
    "    [25.867736, -80.324116],\n",
    "    [51.503016, -0.075479],\n",
    "    [52.378894, 4.885084],\n",
    "    [39.366487, 117.036146],\n",
    "    [-33.868457, 151.205134],\n",
    "])"
   ]
  },
  {
   "cell_type": "code",
   "execution_count": 168,
   "metadata": {},
   "outputs": [
    {
     "data": {
      "text/plain": [
       "[(420, 0.007834758333930724, array([-33.86063043, 151.20477593])),\n",
       " (370, 0.00935331618447212, array([52.37296399,  4.89231722])),\n",
       " (419, 0.022674066155853188, array([ 25.84567226, -80.3188906 ])),\n",
       " (58, 0.048713889715287936, array([51.50278627, -0.12419235])),\n",
       " (51, 0.06383757737918763, array([  33.80577421, -118.1554941 ])),\n",
       " (29, 0.13594306076638893, array([ 25.79004924, -80.21255757])),\n",
       " (167, 0.17295887548786643, array([ 25.69899723, -80.2861423 ])),\n",
       " (92, 0.18505412385140863, array([ 26.00644659, -80.20162355])),\n",
       " (87, 0.18802946105762436, array([  33.86452949, -118.03864353])),\n",
       " (42, 0.20618640321704054, array([  33.86473197, -118.36090504])),\n",
       " (291, 0.22111584180740923, array([  33.97140437, -118.16785564])),\n",
       " (320, 0.27130075950710053, array([ 26.13884379, -80.33434684])),\n",
       " (32, 0.28239201356973725, array([  33.66901693, -117.91859461])),\n",
       " (27, 0.30045490978667017, array([  33.83128033, -117.8991323 ])),\n",
       " (11, 0.3058042209309342, array([  34.05210412, -118.24368782])),\n",
       " (119, 0.3129161293074252, array([  33.9846107 , -117.98024087])),\n",
       " (55, 0.3138879944155859, array([ 26.12840689, -80.14925502])),\n",
       " (17, 0.3824362041394481, array([  34.0219948 , -118.45886835])),\n",
       " (47, 0.38326771256180764, array([  34.13000225, -118.129907  ])),\n",
       " (159, 0.4068694508327018, array([ 26.26574099, -80.23964838]))]"
      ]
     },
     "execution_count": 168,
     "metadata": {},
     "output_type": "execute_result"
    }
   ],
   "source": [
    "centroids = np.array([get_centroid(points) for key, points in clusters])\n",
    "distances = metrics.euclidean_distances(centroids, offices)\n",
    "min_cluster_distances = np.min(distances, axis=1)\n",
    "\n",
    "result = [\n",
    "    (clusters[i][0], dist, centroids[i])\n",
    "    for i, dist in enumerate(min_cluster_distances)\n",
    "]\n",
    "\n",
    "result.sort(key=itemgetter(1))\n",
    "result[:20]\n",
    "# clusters.sort(key=itemgetter(2))"
   ]
  },
  {
   "cell_type": "code",
   "execution_count": 179,
   "metadata": {},
   "outputs": [
    {
     "name": "stdout",
     "output_type": "stream",
     "text": [
      "-33.86063042857143 151.20477592857145\n"
     ]
    }
   ],
   "source": [
    "def write_answer(result, ans_ind):\n",
    "    path = f'out/02_banners{ans_ind}.txt'\n",
    "    result_str = result if isinstance(result, str) else str(result)\n",
    "    with open(path, \"w\") as fout:\n",
    "        fout.write(result_str)\n",
    "        \n",
    "answer1 = result[0][2]\n",
    "answer1 = str.join(' ', map(str, answer1))\n",
    "print(answer1)\n",
    "write_answer(answer1, 1)"
   ]
  }
 ],
 "metadata": {
  "kernelspec": {
   "display_name": "Python 2",
   "language": "python",
   "name": "python2"
  },
  "language_info": {
   "codemirror_mode": {
    "name": "ipython",
    "version": 2
   },
   "file_extension": ".py",
   "mimetype": "text/x-python",
   "name": "python",
   "nbconvert_exporter": "python",
   "pygments_lexer": "ipython2",
   "version": "2.7.14"
  }
 },
 "nbformat": 4,
 "nbformat_minor": 2
}
