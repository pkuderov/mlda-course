{
 "cells": [
  {
   "cell_type": "markdown",
   "metadata": {},
   "source": [
    "# Programming Assignment: Размещение баннеров"
   ]
  },
  {
   "cell_type": "code",
   "execution_count": 1,
   "metadata": {},
   "outputs": [
    {
     "data": {
      "image/png": "[encoded data removed]",
      "text/plain": [
       "<Figure size 1728x72 with 1 Axes>"
      ]
     },
     "metadata": {
      "needs_background": "light"
     },
     "output_type": "display_data"
    }
   ],
   "source": [
    "import pandas as pd\n",
    "import numpy as np\n",
    "import matplotlib as mpl\n",
    "import matplotlib.pyplot as plt\n",
    "import scipy.stats as sts\n",
    "import seaborn as sns\n",
    "from contextlib import contextmanager\n",
    "\n",
    "sns.set()\n",
    "sns.set_style(\"whitegrid\")\n",
    "\n",
    "color_palette = sns.color_palette('deep') + sns.color_palette('husl', 6) + sns.color_palette('bright') + sns.color_palette('pastel')\n",
    "\n",
    "%matplotlib inline\n",
    "sns.palplot(color_palette)\n",
    "\n",
    "def ndprint(a, precision=3):\n",
    "    with np.printoptions(precision=precision, suppress=True):\n",
    "        print(a)"
   ]
  },
  {
   "cell_type": "markdown",
   "metadata": {},
   "source": [
    "## Problem"
   ]
  },
  {
   "cell_type": "markdown",
   "metadata": {},
   "source": [
    "Представим, что международное круизное агентство Carnival Cruise Line решило себя разрекламировать с помощью баннеров и обратилось для этого к вам. Чтобы протестировать, велика ли от таких баннеров польза, их будет размещено всего 20 штук по всему миру. Вам надо выбрать 20 таких локаций для размещения, чтобы польза была большой и агентство продолжило с вами сотрудничать.\n",
    "\n",
    "Агентство крупное, и у него есть несколько офисов по всему миру. Вблизи этих офисов оно и хочет разместить баннеры — легче договариваться и проверять результат. Также эти места должны быть популярны среди туристов."
   ]
  },
  {
   "cell_type": "markdown",
   "metadata": {},
   "source": [
    "## Get data"
   ]
  },
  {
   "cell_type": "markdown",
   "metadata": {},
   "source": [
    "Для поиска оптимальных мест воспользуемся базой данных крупнейшей социальной сети, основанной на локациях — Foursquare.\n",
    "\n",
    "Часть открытых данных есть, например, на сайте archive.org:\n",
    "\n",
    "https://archive.org/details/201309_foursquare_dataset_umn\n",
    "\n",
    "Скачаем любым удобным образом архив fsq.zip с этой страницы."
   ]
  },
  {
   "cell_type": "code",
   "execution_count": 2,
   "metadata": {},
   "outputs": [],
   "source": [
    "import os.path\n",
    "import requests\n",
    "from zipfile import ZipFile\n",
    "\n",
    "def fetch_file(url, filename):\n",
    "    if os.path.exists(filename):\n",
    "        return\n",
    "    response = requests.get(url, stream=True)\n",
    "    with open(filename, \"wb\") as handle:\n",
    "        for data in response.iter_content():\n",
    "            handle.write(data)            \n",
    "\n",
    "def extract_zip(from_path, to_path):\n",
    "    with ZipFile(from_path, 'r') as zip_ref:\n",
    "        zip_ref.extractall(to_path)\n",
    "        \n",
    "def fetch_data():\n",
    "    if os.path.exists('data/02_checkins.csv'):\n",
    "        return\n",
    "    \n",
    "    # download zip dataset to temp\n",
    "    tmp_path = os.path.expanduser('~/AppData/Local/Temp/')\n",
    "    dataset_zip = os.path.join(tmp_path, 'foursquare_dataset.zip')\n",
    "    fetch_file('https://archive.org/download/201309_foursquare_dataset_umn/fsq.zip', dataset_zip)\n",
    "    \n",
    "    # extract zip\n",
    "    extracted_data_path = os.path.join(tmp_path, 'foursquare_dataset')\n",
    "    extract_zip(dataset_zip, extracted_data_path)\n",
    "    \n",
    "    # read, clean, save to `data` folder\n",
    "    extracted_data_path = os.path.join(tmp_path, 'foursquare_dataset/umn_foursquare_datasets/checkins.dat')\n",
    "    data = pd.read_csv(extracted_data_path, sep='|', low_memory=False, skiprows=[1], skipinitialspace=True, usecols=[3, 4])\n",
    "    data.dropna(inplace=True)\n",
    "    data.columns = [col.strip() for col in data.columns]\n",
    "\n",
    "    data.to_csv('data/02_checkins.csv')"
   ]
  },
  {
   "cell_type": "markdown",
   "metadata": {},
   "source": [
    "Нас будет интересовать файл checkins.dat. Открыв его, увидим следующую структуру:"
   ]
  },
  {
   "cell_type": "code",
   "execution_count": 3,
   "metadata": {},
   "outputs": [],
   "source": [
    "fetch_data()"
   ]
  },
  {
   "cell_type": "code",
   "execution_count": 17,
   "metadata": {},
   "outputs": [],
   "source": [
    "data = pd.read_csv('data/02_checkins.csv')"
   ]
  },
  {
   "cell_type": "code",
   "execution_count": 18,
   "metadata": {},
   "outputs": [
    {
     "data": {
      "text/html": [
       "<div>\n",
       "<style scoped>\n",
       "    .dataframe tbody tr th:only-of-type {\n",
       "        vertical-align: middle;\n",
       "    }\n",
       "\n",
       "    .dataframe tbody tr th {\n",
       "        vertical-align: top;\n",
       "    }\n",
       "\n",
       "    .dataframe thead th {\n",
       "        text-align: right;\n",
       "    }\n",
       "</style>\n",
       "<table border=\"1\" class=\"dataframe\">\n",
       "  <thead>\n",
       "    <tr style=\"text-align: right;\">\n",
       "      <th></th>\n",
       "      <th>ind</th>\n",
       "      <th>latitude</th>\n",
       "      <th>longitude</th>\n",
       "    </tr>\n",
       "  </thead>\n",
       "  <tbody>\n",
       "    <tr>\n",
       "      <th>0</th>\n",
       "      <td>1</td>\n",
       "      <td>38.895112</td>\n",
       "      <td>-77.036366</td>\n",
       "    </tr>\n",
       "    <tr>\n",
       "      <th>1</th>\n",
       "      <td>3</td>\n",
       "      <td>33.800745</td>\n",
       "      <td>-84.410520</td>\n",
       "    </tr>\n",
       "    <tr>\n",
       "      <th>2</th>\n",
       "      <td>7</td>\n",
       "      <td>45.523452</td>\n",
       "      <td>-122.676207</td>\n",
       "    </tr>\n",
       "    <tr>\n",
       "      <th>3</th>\n",
       "      <td>9</td>\n",
       "      <td>40.764462</td>\n",
       "      <td>-111.904565</td>\n",
       "    </tr>\n",
       "    <tr>\n",
       "      <th>4</th>\n",
       "      <td>10</td>\n",
       "      <td>33.448377</td>\n",
       "      <td>-112.074037</td>\n",
       "    </tr>\n",
       "  </tbody>\n",
       "</table>\n",
       "</div>"
      ],
      "text/plain": [
       "   ind   latitude   longitude\n",
       "0    1  38.895112  -77.036366\n",
       "1    3  33.800745  -84.410520\n",
       "2    7  45.523452 -122.676207\n",
       "3    9  40.764462 -111.904565\n",
       "4   10  33.448377 -112.074037"
      ]
     },
     "execution_count": 18,
     "metadata": {},
     "output_type": "execute_result"
    }
   ],
   "source": [
    "data.head()"
   ]
  },
  {
   "cell_type": "markdown",
   "metadata": {},
   "source": [
    "## Выборка"
   ]
  },
  {
   "cell_type": "code",
   "execution_count": 5,
   "metadata": {
    "collapsed": false
   },
   "outputs": [
    {
     "name": "stdout",
     "output_type": "stream",
     "text": [
      "['alt.atheism', 'comp.graphics', 'comp.os.ms-windows.misc', 'comp.sys.ibm.pc.hardware', 'comp.sys.mac.hardware', 'comp.windows.x', 'misc.forsale', 'rec.autos', 'rec.motorcycles', 'rec.sport.baseball', 'rec.sport.hockey', 'sci.crypt', 'sci.electronics', 'sci.med', 'sci.space', 'soc.religion.christian', 'talk.politics.guns', 'talk.politics.mideast', 'talk.politics.misc', 'talk.religion.misc']\n"
     ]
    }
   ],
   "source": [
    "from sklearn import datasets, metrics, model_selection as mdsel, tree, ensemble, neighbors\n",
    "\n",
    "train_all = datasets.fetch_20newsgroups(subset='train')\n",
    "print(train_all.target_names)"
   ]
  },
  {
   "cell_type": "code",
   "execution_count": 7,
   "metadata": {
    "collapsed": true
   },
   "outputs": [],
   "source": [
    "simple_dataset = datasets.fetch_20newsgroups(\n",
    "    subset='train', \n",
    "    categories=['comp.sys.mac.hardware', 'soc.religion.christian', 'rec.sport.hockey']\n",
    ")"
   ]
  },
  {
   "cell_type": "code",
   "execution_count": 8,
   "metadata": {
    "collapsed": false
   },
   "outputs": [
    {
     "name": "stdout",
     "output_type": "stream",
     "text": [
      "From: erik@cheshire.oxy.edu (Erik Adams)\n",
      "Subject: HELP!!  My Macintosh \"luggable\" has lines on its screen!\n",
      "Organization: Occidental College, Los Angeles, CA 90041 USA.\n",
      "Distribution: comp\n",
      "Lines: 20\n",
      "\n",
      "Okay, I don't use it very much, but I would like for it to keep working\n",
      "correctly, at least as long as Apple continues to make System software\n",
      "that will run on it, if slowly :-)\n",
      "\n",
      "Here is the problem:  When the screen is tilted too far back, vertical\n",
      "lines appear on the screen.  They are every 10 pixels or so, and seem\n",
      "to be affected somewhat by opening windows and pulling down menus.\n",
      "It looks to a semi-technical person like there is a loose connection\n",
      "between the screen and the rest of the computer.\n",
      "\n",
      "I am open to suggestions that do not involve buying a new computer,\n",
      "or taking this one to the shop.  I would also like to not have\n",
      "to buy one of Larry Pina's books.  I like Larry, but I'm not sure\n",
      "I feel strongly enough about the computer to buy a service manual\n",
      "for it.\n",
      "\n",
      "On a related note:  what does the monitor connector connect to?\n",
      "\n",
      "Erik\n",
      "\n",
      "\n"
     ]
    }
   ],
   "source": [
    "print(simple_dataset.data[0])"
   ]
  },
  {
   "cell_type": "code",
   "execution_count": 9,
   "metadata": {
    "collapsed": false
   },
   "outputs": [
    {
     "data": {
      "text/plain": [
       "array([0, 0, 1, ..., 0, 1, 2], dtype=int64)"
      ]
     },
     "execution_count": 9,
     "metadata": {},
     "output_type": "execute_result"
    }
   ],
   "source": [
    "simple_dataset.target"
   ]
  },
  {
   "cell_type": "code",
   "execution_count": 11,
   "metadata": {
    "collapsed": false
   },
   "outputs": [
    {
     "name": "stdout",
     "output_type": "stream",
     "text": [
      "From: dlecoint@garnet.acns.fsu.edu (Darius_Lecointe)\n",
      "Subject: Re: Sabbath Admissions 5of5\n",
      "Organization: Florida State University\n",
      "Lines: 21\n",
      "\n",
      "I find it interesting that cls never answered any of the questions posed. \n",
      "Then he goes on the make statements which make me shudder.  He has\n",
      "established a two-tiered God.  One set of rules for the Jews (his people)\n",
      "and another set for the saved Gentiles (his people).  Why would God\n",
      "discriminate?  Does the Jew who accepts Jesus now have to live under the\n",
      "Gentile rules.\n",
      "\n",
      "God has one set of rules for all his people.  Paul was never against the\n",
      "law.  In fact he says repeatedly that faith establishes rather that annuls\n",
      "the law.  Paul's point is germane to both Jews and Greeks.  The Law can\n",
      "never be used as an instrument of salvation.  And please do not combine\n",
      "the ceremonial and moral laws in one.\n",
      "\n",
      "In Matt 5:14-19 Christ plainly says what He came to do and you say He was\n",
      "only saying that for the Jews's benefit.  Your Christ must be a\n",
      "politician, speaking from both sides of His mouth.  As Paul said, \"I have\n",
      "not so learned Christ.\"  Forget all the theology, just do what Jesus says.\n",
      " Your excuses will not hold up in a court of law on earth, far less in\n",
      "God's judgement hall.\n",
      "\n",
      "Darius\n",
      "\n"
     ]
    }
   ],
   "source": [
    "print(simple_dataset.data[-1])"
   ]
  },
  {
   "cell_type": "code",
   "execution_count": 12,
   "metadata": {
    "collapsed": false
   },
   "outputs": [
    {
     "name": "stdout",
     "output_type": "stream",
     "text": [
      "From: scialdone@nssdca.gsfc.nasa.gov (John Scialdone)\n",
      "Subject: CUT Vukota and Pilon!!!\n",
      "News-Software: VAX/VMS VNEWS 1.41    \n",
      "Organization: NASA - Goddard Space Flight Center\n",
      "Lines: 32\n",
      "\n",
      "I have been to all 3 Isles/Caps tilts at the Crap Centre this year, all Isles\n",
      "wins and there is no justification for Vukota and Pilon to play for the Isles.\n",
      "Vukota is absolutely the worst puck handler in the world!! He couldn't hit a\n",
      "bull in the ass with a banjo!! Al must remember a few years back when Mick \n",
      "scored 3 goals in one period against the Caps in a 5-3 Isles win. I was there\n",
      "and was astonished as was the rest of the crowd. Wake-up Al!!! Years later he's\n",
      "gotten worse. He's a cheap shot artist and always ends up getting\n",
      "stupid/senseless penalties. I think he would make a good police officier!!!\n",
      "\n",
      "As for Pilon, he can't carry the puck out to center ice by himself. He either\n",
      "makes a bad pass resulting in a turnover, or he attempts to bring the puck \n",
      "towards the neutral zone and skates right into an opposing skater. He can't\n",
      "stay on his skates with most forwards or centers. He either falls down or \n",
      "committs a penalty. Call up somebody from Capital District AL!!!!!\n",
      "\n",
      "As far as the playoffs, the Isles are as difficult to figure out as the Caps.\n",
      "Two good teams with talent but so inconsistent. They should meet in the first\n",
      "round. The Isles seem to play up to the level of their competition so they\n",
      "should play well against Jersey tonite. It'll probably be another tight 1-goal\n",
      "game as the last 20 games hve been for the Isles. I wish when the get a lead\n",
      "they could continue to pour it on instead of settling back into a defensive\n",
      "shell and letting the opposition get back in the game. Al MUST understand he\n",
      "can't do with this team what he did with the 80-83 Isles. maybe Al should got\n",
      "to. Where is Bobby Nystrom?? Clark Gilles?? John Tonelli?? These are the kind\n",
      "of young minds we need behing the bench!!    FIRE AL!!!!\n",
      "\n",
      "John Scialdone\n",
      "SCIALDONE@NSSDCA.GSFC.NASA.GOV\n",
      "\n",
      "**********When your ship comes in, first man takes the Sail********************\n",
      "\n",
      "\n",
      "\n"
     ]
    }
   ],
   "source": [
    "print(simple_dataset.data[-2])"
   ]
  },
  {
   "cell_type": "code",
   "execution_count": 13,
   "metadata": {
    "collapsed": false
   },
   "outputs": [
    {
     "data": {
      "text/plain": [
       "1777"
      ]
     },
     "execution_count": 13,
     "metadata": {},
     "output_type": "execute_result"
    }
   ],
   "source": [
    "len(simple_dataset.data)"
   ]
  },
  {
   "cell_type": "markdown",
   "metadata": {},
   "source": [
    "## Признаки"
   ]
  },
  {
   "cell_type": "code",
   "execution_count": 14,
   "metadata": {
    "collapsed": true
   },
   "outputs": [],
   "source": [
    "from sklearn.feature_extraction.text import CountVectorizer, TfidfVectorizer\n",
    "\n",
    "vectorizer = TfidfVectorizer(max_df=500, min_df=10)\n",
    "matrix = vectorizer.fit_transform(simple_dataset.data)"
   ]
  },
  {
   "cell_type": "code",
   "execution_count": 15,
   "metadata": {
    "collapsed": false
   },
   "outputs": [
    {
     "data": {
      "text/plain": [
       "(1777, 3767)"
      ]
     },
     "execution_count": 15,
     "metadata": {},
     "output_type": "execute_result"
    }
   ],
   "source": [
    "matrix.shape"
   ]
  },
  {
   "cell_type": "markdown",
   "metadata": {},
   "source": [
    "## Аггломеративная кластеризация (neighbour joining)"
   ]
  },
  {
   "cell_type": "code",
   "execution_count": 26,
   "metadata": {
    "collapsed": false
   },
   "outputs": [],
   "source": [
    "from sklearn.cluster.hierarchical import AgglomerativeClustering\n",
    "\n",
    "model = AgglomerativeClustering(n_clusters=3, affinity='cosine', linkage='complete')\n",
    "preds = model.fit_predict(matrix.toarray())"
   ]
  },
  {
   "cell_type": "code",
   "execution_count": 27,
   "metadata": {
    "collapsed": false,
    "scrolled": false
   },
   "outputs": [
    {
     "data": {
      "text/plain": [
       "[0, 0, 0, 0, 0, 0, 0, 0, 0, 0, 0, 0, 0, 0, 0, 0, 0, 0, 0, 0]"
      ]
     },
     "execution_count": 27,
     "metadata": {},
     "output_type": "execute_result"
    }
   ],
   "source": [
    "list(preds)[:20]"
   ]
  },
  {
   "cell_type": "code",
   "execution_count": 20,
   "metadata": {
    "collapsed": false,
    "scrolled": true
   },
   "outputs": [
    {
     "name": "stdout",
     "output_type": "stream",
     "text": [
      "  (0, 1246)\t0.3906389385132699\n",
      "  (0, 239)\t0.09501028877632492\n",
      "  (0, 1659)\t0.07226670936760915\n",
      "  (0, 2082)\t0.09656717763921\n",
      "  (0, 1846)\t0.06741426312477893\n",
      "  (0, 2991)\t0.3895610830528872\n",
      "  (0, 810)\t0.0809427637021726\n",
      "  (0, 2056)\t0.09616720743610424\n",
      "  (0, 319)\t0.10054935380579341\n",
      "  (0, 625)\t0.05207173909126517\n",
      "  (0, 3553)\t0.07346689959490565\n",
      "  (0, 1121)\t0.06442816229222373\n",
      "  (0, 838)\t0.10154477899829951\n",
      "  (0, 69)\t0.06858267052730141\n",
      "  (0, 2413)\t0.10258878033617379\n",
      "  (0, 3555)\t0.06229087987706688\n",
      "  (0, 3600)\t0.05737015279917228\n",
      "  (0, 2273)\t0.057960021837659234\n",
      "  (0, 1905)\t0.08173536478989506\n",
      "  (0, 3722)\t0.09501028877632492\n",
      "  (0, 926)\t0.11742059318548873\n",
      "  (0, 1991)\t0.0711302768586001\n",
      "  (0, 2048)\t0.07488448956033757\n",
      "  (0, 354)\t0.06947437383545055\n",
      "  (0, 900)\t0.12357635170024021\n",
      "  :\t:\n",
      "  (0, 2868)\t0.08596208970791505\n",
      "  (0, 855)\t0.20162554088271673\n",
      "  (0, 301)\t0.055632566960467825\n",
      "  (0, 2422)\t0.09427236106959615\n",
      "  (0, 3285)\t0.11264581593118286\n",
      "  (0, 1831)\t0.1250526461821779\n",
      "  (0, 620)\t0.11180657962809899\n",
      "  (0, 2325)\t0.05419206470797135\n",
      "  (0, 3322)\t0.095389020483548\n",
      "  (0, 294)\t0.05177106272222828\n",
      "  (0, 619)\t0.17047334333409378\n",
      "  (0, 1961)\t0.22885999498507142\n",
      "  (0, 551)\t0.09781400308186791\n",
      "  (0, 3305)\t0.0678317940862319\n",
      "  (0, 1366)\t0.08363394973994459\n",
      "  (0, 3262)\t0.13021297950442332\n",
      "  (0, 1229)\t0.07360450638969386\n",
      "  (0, 3035)\t0.10154477899829951\n",
      "  (0, 2108)\t0.12357635170024021\n",
      "  (0, 2820)\t0.10804290934262963\n",
      "  (0, 2358)\t0.08407975300726755\n",
      "  (0, 1136)\t0.0500506718780515\n",
      "  (0, 2243)\t0.09253174474116468\n",
      "  (0, 880)\t0.11851815596020332\n",
      "  (0, 877)\t0.11180657962809899\n"
     ]
    }
   ],
   "source": [
    "print(matrix[0])"
   ]
  },
  {
   "cell_type": "code",
   "execution_count": 28,
   "metadata": {
    "collapsed": false
   },
   "outputs": [
    {
     "data": {
      "text/plain": [
       "['00', '000', '01', '02', '03', '030', '0358', '04', '040', '05']"
      ]
     },
     "execution_count": 28,
     "metadata": {},
     "output_type": "execute_result"
    }
   ],
   "source": [
    "vectorizer.get_feature_names()[:10]"
   ]
  },
  {
   "cell_type": "code",
   "execution_count": 29,
   "metadata": {
    "collapsed": false
   },
   "outputs": [
    {
     "data": {
      "text/plain": [
       "'connect'"
      ]
     },
     "execution_count": 29,
     "metadata": {},
     "output_type": "execute_result"
    }
   ],
   "source": [
    "vectorizer.get_feature_names()[877]"
   ]
  },
  {
   "cell_type": "code",
   "execution_count": 30,
   "metadata": {
    "collapsed": false
   },
   "outputs": [
    {
     "data": {
      "text/plain": [
       "'From: erik@cheshire.oxy.edu (Erik Adams)\\nSubject: HELP!!  My Macintosh \"luggable\" has lines on its screen!\\nOrganization: Occidental College, Los Angeles, CA 90041 USA.\\nDistribution: comp\\nLines: 20\\n\\nOkay, I don\\'t use it very much, but I would like for it to keep working\\ncorrectly, at least as long as Apple continues to make System software\\nthat will run on it, if slowly :-)\\n\\nHere is the problem:  When the screen is tilted too far back, vertical\\nlines appear on the screen.  They are every 10 pixels or so, and seem\\nto be affected somewhat by opening windows and pulling down menus.\\nIt looks to a semi-technical person like there is a loose connection\\nbetween the screen and the rest of the computer.\\n\\nI am open to suggestions that do not involve buying a new computer,\\nor taking this one to the shop.  I would also like to not have\\nto buy one of Larry Pina\\'s books.  I like Larry, but I\\'m not sure\\nI feel strongly enough about the computer to buy a service manual\\nfor it.\\n\\nOn a related note:  what does the monitor connector connect to?\\n\\nErik\\n\\n'"
      ]
     },
     "execution_count": 30,
     "metadata": {},
     "output_type": "execute_result"
    }
   ],
   "source": [
    "simple_dataset.data[0]"
   ]
  },
  {
   "cell_type": "markdown",
   "metadata": {},
   "source": [
    "## KMeans"
   ]
  },
  {
   "cell_type": "code",
   "execution_count": 31,
   "metadata": {
    "collapsed": false
   },
   "outputs": [
    {
     "name": "stdout",
     "output_type": "stream",
     "text": [
      "[0 0 2 ... 0 2 1]\n"
     ]
    }
   ],
   "source": [
    "from sklearn.cluster import KMeans\n",
    "\n",
    "model = KMeans(n_clusters=3, random_state=1)\n",
    "preds = model.fit_predict(matrix.toarray())\n",
    "print(preds)"
   ]
  },
  {
   "cell_type": "code",
   "execution_count": 32,
   "metadata": {
    "collapsed": false
   },
   "outputs": [
    {
     "name": "stdout",
     "output_type": "stream",
     "text": [
      "[0 0 1 ... 0 1 2]\n"
     ]
    }
   ],
   "source": [
    "print(simple_dataset.target)"
   ]
  },
  {
   "cell_type": "code",
   "execution_count": 33,
   "metadata": {
    "collapsed": false
   },
   "outputs": [
    {
     "name": "stdout",
     "output_type": "stream",
     "text": [
      "0.04727068092290377\n"
     ]
    }
   ],
   "source": [
    "mapping = {2 : 1, 1: 2, 0: 0}\n",
    "mapped_preds = [mapping[pred] for pred in preds]\n",
    "print(float(sum(mapped_preds != simple_dataset.target)) / len(simple_dataset.target))"
   ]
  },
  {
   "cell_type": "code",
   "execution_count": 36,
   "metadata": {
    "collapsed": false
   },
   "outputs": [
    {
     "name": "stdout",
     "output_type": "stream",
     "text": [
      "0.9864864479274559\n"
     ]
    }
   ],
   "source": [
    "from sklearn.linear_model import LogisticRegression\n",
    "clf = LogisticRegression(solver='lbfgs', multi_class='auto')\n",
    "print(mdsel.cross_val_score(clf, matrix, simple_dataset.target, cv=3).mean())\n"
   ]
  },
  {
   "cell_type": "markdown",
   "metadata": {},
   "source": [
    "## Более сложная выборка"
   ]
  },
  {
   "cell_type": "code",
   "execution_count": 49,
   "metadata": {
    "collapsed": true
   },
   "outputs": [],
   "source": [
    "dataset = datasets.fetch_20newsgroups(\n",
    "    subset='train', \n",
    "    categories=['comp.sys.mac.hardware', 'comp.os.ms-windows.misc', 'comp.graphics'])"
   ]
  },
  {
   "cell_type": "code",
   "execution_count": 50,
   "metadata": {
    "collapsed": false
   },
   "outputs": [
    {
     "name": "stdout",
     "output_type": "stream",
     "text": [
      "[2 1 0 ... 2 0 2]\n",
      "[2 1 1 ... 2 0 2]\n"
     ]
    }
   ],
   "source": [
    "matrix = vectorizer.fit_transform(dataset.data)\n",
    "model = KMeans(n_clusters=3, random_state=42)\n",
    "preds = model.fit_predict(matrix.toarray())\n",
    "print(preds)\n",
    "print(dataset.target)"
   ]
  },
  {
   "cell_type": "code",
   "execution_count": 51,
   "metadata": {
    "collapsed": false
   },
   "outputs": [
    {
     "name": "stdout",
     "output_type": "stream",
     "text": [
      "0.23217341699942956\n"
     ]
    }
   ],
   "source": [
    "mapping = {2 : 2, 1: 1, 0: 0}\n",
    "mapped_preds = [mapping[pred] for pred in preds]\n",
    "print(float(sum(mapped_preds != dataset.target)) / len(dataset.target))"
   ]
  },
  {
   "cell_type": "code",
   "execution_count": 52,
   "metadata": {
    "collapsed": false
   },
   "outputs": [
    {
     "name": "stdout",
     "output_type": "stream",
     "text": [
      "0.9178509820019255\n"
     ]
    }
   ],
   "source": [
    "clf = LogisticRegression(solver='lbfgs', multi_class='auto')\n",
    "print(mdsel.cross_val_score(clf, matrix, dataset.target, cv=3).mean())"
   ]
  },
  {
   "cell_type": "markdown",
   "metadata": {},
   "source": [
    "## SVD + KMeans"
   ]
  },
  {
   "cell_type": "code",
   "execution_count": 53,
   "metadata": {
    "collapsed": false
   },
   "outputs": [
    {
     "name": "stdout",
     "output_type": "stream",
     "text": [
      "[0 2 1 ... 0 1 0]\n",
      "[2 1 1 ... 2 0 2]\n"
     ]
    }
   ],
   "source": [
    "from sklearn.decomposition import TruncatedSVD\n",
    "\n",
    "model = KMeans(n_clusters=3, random_state=42)\n",
    "svd = TruncatedSVD(n_components=1000, random_state=123)\n",
    "features = svd.fit_transform(matrix)\n",
    "preds = model.fit_predict(features)\n",
    "print(preds)\n",
    "print(dataset.target)"
   ]
  },
  {
   "cell_type": "code",
   "execution_count": 54,
   "metadata": {
    "collapsed": false
   },
   "outputs": [
    {
     "name": "stdout",
     "output_type": "stream",
     "text": [
      "0.2065031374786081\n"
     ]
    }
   ],
   "source": [
    "mapping = {0 : 2, 1: 0, 2: 1}\n",
    "mapped_preds = [mapping[pred] for pred in preds]\n",
    "print(float(sum(mapped_preds != dataset.target)) / len(dataset.target))"
   ]
  },
  {
   "cell_type": "code",
   "execution_count": 46,
   "metadata": {
    "collapsed": false
   },
   "outputs": [
    {
     "name": "stdout",
     "output_type": "stream",
     "text": [
      "[2 0 1 ... 2 1 2]\n",
      "[2 1 1 ... 2 0 2]\n"
     ]
    }
   ],
   "source": [
    "model = KMeans(n_clusters=3, random_state=42)\n",
    "svd = TruncatedSVD(n_components=200, random_state=123)\n",
    "features = svd.fit_transform(matrix)\n",
    "preds = model.fit_predict(features)\n",
    "print(preds)\n",
    "print(dataset.target)"
   ]
  },
  {
   "cell_type": "code",
   "execution_count": 47,
   "metadata": {
    "collapsed": false
   },
   "outputs": [
    {
     "name": "stdout",
     "output_type": "stream",
     "text": [
      "0.9007415858528237\n",
      "0.6742726754135767\n",
      "0.7056474614945807\n",
      "0.8938961779806047\n",
      "0.2053622361665716\n",
      "0.6200798630918426\n"
     ]
    }
   ],
   "source": [
    "import itertools\n",
    "def validate_with_mappings(preds, target, dataset):\n",
    "    permutations = itertools.permutations([0, 1, 2])\n",
    "    for a, b, c in permutations:\n",
    "        mapping = {2 : a, 1: b, 0: c}\n",
    "        mapped_preds = [mapping[pred] for pred in preds]\n",
    "        print(float(sum(mapped_preds != target)) / len(target))\n",
    "        \n",
    "validate_with_mappings(preds, dataset.target, dataset)"
   ]
  },
  {
   "cell_type": "code",
   "execution_count": 48,
   "metadata": {
    "collapsed": false
   },
   "outputs": [
    {
     "name": "stdout",
     "output_type": "stream",
     "text": [
      "[2 1 0 ... 2 0 2]\n",
      "[2 1 1 ... 2 0 2]\n",
      "0.713063320022818\n",
      "0.845407872219053\n",
      "0.8893325727324587\n",
      "0.7005134055904164\n",
      "0.5864232743867656\n",
      "0.2652595550484883\n"
     ]
    }
   ],
   "source": [
    "model = KMeans(n_clusters=3, random_state=42)\n",
    "svd = TruncatedSVD(n_components=200, random_state=321)\n",
    "features = svd.fit_transform(matrix)\n",
    "preds = model.fit_predict(features)\n",
    "print(preds)\n",
    "print(dataset.target)\n",
    "validate_with_mappings(preds, dataset.target, dataset)"
   ]
  },
  {
   "cell_type": "markdown",
   "metadata": {},
   "source": [
    "## Итоги"
   ]
  },
  {
   "cell_type": "markdown",
   "metadata": {},
   "source": [
    "1. Получили интерпретируемый результат на обеих выборках\n",
    "1. Реальность, однако, намного более жестока\n",
    "1. Попробовали использовать AgglomerativeClustering и KMeans"
   ]
  }
 ],
 "metadata": {
  "kernelspec": {
   "display_name": "Python 3",
   "language": "python",
   "name": "python3"
  },
  "language_info": {
   "codemirror_mode": {
    "name": "ipython",
    "version": 3
   },
   "file_extension": ".py",
   "mimetype": "text/x-python",
   "name": "python",
   "nbconvert_exporter": "python",
   "pygments_lexer": "ipython3",
   "version": "3.6.7"
  }
 },
 "nbformat": 4,
 "nbformat_minor": 2
}
