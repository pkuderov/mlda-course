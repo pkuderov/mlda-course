{
 "cells": [
  {
   "cell_type": "markdown",
   "metadata": {},
   "source": [
    "# Graded quiz. Confidence intervals"
   ]
  },
  {
   "cell_type": "code",
   "execution_count": 2,
   "metadata": {
    "collapsed": false
   },
   "outputs": [
    {
     "data": {
      "image/png": "[encoded data removed]",
      "text/plain": [
       "<Figure size 2592x72 with 1 Axes>"
      ]
     },
     "metadata": {
      "needs_background": "light"
     },
     "output_type": "display_data"
    }
   ],
   "source": [
    "import pandas as pd\n",
    "import numpy as np\n",
    "import matplotlib as mpl\n",
    "import matplotlib.pyplot as plt\n",
    "import scipy.stats as sts\n",
    "import seaborn as sns\n",
    "from contextlib import contextmanager\n",
    "\n",
    "sns.set()\n",
    "sns.set_style(\"whitegrid\")\n",
    "\n",
    "color_palette = sns.color_palette('deep') + sns.color_palette('husl', 6) + sns.color_palette('bright') + sns.color_palette('pastel')\n",
    "\n",
    "%matplotlib inline\n",
    "sns.palplot(color_palette)\n",
    "\n",
    "def ndprint(a, precision=3):\n",
    "    with np.printoptions(precision=precision, suppress=True):\n",
    "        print(a)"
   ]
  },
  {
   "cell_type": "code",
   "execution_count": 38,
   "metadata": {},
   "outputs": [],
   "source": [
    "def r4(*kargs):\n",
    "    return [round(x, 4) for x in kargs] if len(kargs) > 1 else round(kargs[0], 4)\n",
    "\n",
    "def r4s(a):\n",
    "    return r4(*a)"
   ]
  },
  {
   "cell_type": "markdown",
   "metadata": {},
   "source": [
    "## 01. Question 1\n",
    "\n",
    "Давайте уточним правило трёх сигм. Утверждение: 99.7% вероятностной массы случайной величины $X \\sim N (\\mu,\\sigma^2)$ лежит в интервале $\\mu \\pm c \\cdot \\sigma$. Чему равно точное значение константы c? Округлите ответ до четырёх знаков после десятичной точки."
   ]
  },
  {
   "cell_type": "code",
   "execution_count": 39,
   "metadata": {},
   "outputs": [
    {
     "data": {
      "text/plain": [
       "2.9677"
      ]
     },
     "execution_count": 39,
     "metadata": {},
     "output_type": "execute_result"
    }
   ],
   "source": [
    "alpha = 1 - 0.997\n",
    "r4(sts.norm.ppf(1 - alpha/2))"
   ]
  },
  {
   "cell_type": "markdown",
   "metadata": {},
   "source": [
    "## 02. Question 2\n",
    "\n",
    "Пусть $X \\sim N (\\mu, \\sigma^2)$. Какое распределение имеет величина $\\frac{\\bar{X}_n - \\mu}{S_n / \\sqrt{n}}$?\n",
    "\n",
    "__answered__ $St(n-1)$"
   ]
  },
  {
   "cell_type": "markdown",
   "metadata": {},
   "source": [
    "## 03. Question 3\n",
    "\n",
    "Выберите все распределения с несимметричной функцией плотности"
   ]
  },
  {
   "cell_type": "markdown",
   "metadata": {},
   "source": [
    "## 04. Question 4\n",
    "\n",
    "Какое из выражений задаёт доверительный интервал для разности долей в связанных выборках?"
   ]
  },
  {
   "cell_type": "markdown",
   "metadata": {},
   "source": [
    "## 05. Question 5\n",
    "\n",
    "В пятилетнем рандомизированном исследовании Гарвардской медицинской школы 11037 испытуемых через день принимали аспирин, а ещё 11034 — плацебо. Исследование было слепым, то есть, испытуемые не знали, что именно они принимают.\n",
    "\n",
    "За 5 лет инфаркт случился у 104 испытуемых, принимавших аспирин, и у 189 принимавших плацебо.\n",
    "\n",
    "Оцените, насколько вероятность инфаркта снижается при приёме аспирина. Округлите ответ до четырёх знаков после десятичной точки."
   ]
  },
  {
   "cell_type": "code",
   "execution_count": 60,
   "metadata": {},
   "outputs": [
    {
     "name": "stdout",
     "output_type": "stream",
     "text": [
      "[0.0094, 0.0171, 0.0077]\n"
     ]
    }
   ],
   "source": [
    "n_aspirin = 11037\n",
    "n_placebo = 11034\n",
    "\n",
    "heart_attack_aspirin = 104\n",
    "heart_attack_placebo = 189\n",
    "\n",
    "p_aspirin = float(heart_attack_aspirin) / n_aspirin\n",
    "p_placebo = float(heart_attack_placebo) / n_placebo\n",
    "\n",
    "print r4(p_aspirin, p_placebo, p_placebo - p_aspirin)"
   ]
  },
  {
   "cell_type": "markdown",
   "metadata": {},
   "source": [
    "## 06. Question 6\n",
    "\n",
    "Постройте теперь 95% доверительный интервал для снижения вероятности инфаркта при приёме аспирина. Чему равна его верхняя граница? Округлите ответ до четырёх знаков после десятичной точки."
   ]
  },
  {
   "cell_type": "markdown",
   "metadata": {},
   "source": [
    "Берем из практических занятий формулу для разности распределений (см переменную error_margin)"
   ]
  },
  {
   "cell_type": "code",
   "execution_count": 61,
   "metadata": {},
   "outputs": [
    {
     "name": "stdout",
     "output_type": "stream",
     "text": [
      "[0.0047, 0.0107]\n",
      "0.0107\n"
     ]
    }
   ],
   "source": [
    "def proportions_confint_diff_ind(p1, n1, p2, n2, alpha = 0.05):\n",
    "    z = sts.norm.ppf(1 - alpha / 2.)\n",
    "    error_margin = z * np.sqrt(p1 * (1 - p1)/ n1 + p2 * (1 - p2)/ n2)\n",
    "    \n",
    "    left_boundary = (p1 - p2) - error_margin\n",
    "    right_boundary = (p1 - p2) + error_margin\n",
    "    \n",
    "    return (left_boundary, right_boundary)\n",
    "\n",
    "confint = r4s(proportions_confint_diff_ind(p_placebo, n_placebo, p_aspirin, n_aspirin))\n",
    "print confint\n",
    "print confint[1]"
   ]
  },
  {
   "cell_type": "markdown",
   "metadata": {},
   "source": [
    "## 07. Question 7\n",
    "\n",
    "Продолжим анализировать данные эксперимента Гарвардской медицинской школы.\n",
    "\n",
    "Для бернуллиевских случайных величин $X \\sim Ber(p)$ часто вычисляют величину $\\frac{p}{1-p}$, которая называется шансами (odds). Чтобы оценить шансы по выборке, вместо $p$ нужно подставить $\\hat{p}$.\n",
    "\n",
    "Например, шансы инфаркта в контрольной группе, принимавшей плацебо, можно оценить как $\\frac{\\frac{189}{11034}}{1-\\frac{189}{11034}} = \\frac{189}{11034-189}\\approx 0.0174$\n",
    "\n",
    "Оцените, во сколько раз понижаются шансы инфаркта при регулярном приёме аспирина. Округлите ответ до четырёх знаков после десятичной точки."
   ]
  },
  {
   "cell_type": "code",
   "execution_count": 62,
   "metadata": {},
   "outputs": [
    {
     "name": "stdout",
     "output_type": "stream",
     "text": [
      "[0.0174, 0.0095]\n",
      "1.8321\n"
     ]
    }
   ],
   "source": [
    "def odds(p):\n",
    "    return p / (1 - p)\n",
    "\n",
    "odds_arr = list(map(odds, [p_placebo, p_aspirin]))\n",
    "print r4s(odds_arr)\n",
    "\n",
    "print r4(odds_arr[0] / odds_arr[1])"
   ]
  },
  {
   "cell_type": "markdown",
   "metadata": {},
   "source": [
    "## 08. Question 8\n",
    "\n",
    "Величина, которую вы оценили в предыдущем вопросе, называется отношением шансов. Постройте для отношения шансов 95% доверительный интервал с помощью бутстрепа. Чему равна его нижняя граница? Округлите ответ до 4 знаков после десятичной точки.\n",
    "\n",
    "Чтобы получить в точности такой же доверительный интервал, как у нас:\n",
    "\n",
    "- составьте векторы исходов в контрольной и тестовой выборках так, чтобы в начале шли все единицы, а потом все нули;\n",
    "- установите random seed=0;\n",
    "- сделайте по 1000 псевдовыборок из каждой группы пациентов с помощью функции get_bootstrap_samples."
   ]
  },
  {
   "cell_type": "code",
   "execution_count": 72,
   "metadata": {
    "collapsed": true
   },
   "outputs": [
    {
     "name": "stdout",
     "output_type": "stream",
     "text": [
      "[2.1053, 1.9255, 2.2171]\n",
      "[1.4629, 2.3509]\n"
     ]
    },
    {
     "data": {
      "text/plain": [
       "1.4629"
      ]
     },
     "execution_count": 72,
     "metadata": {},
     "output_type": "execute_result"
    }
   ],
   "source": [
    "def get_bootstrap_samples(data, n_samples):\n",
    "    indices = np.random.randint(0, len(data), (n_samples, len(data)))\n",
    "    samples = data[indices]\n",
    "    return samples\n",
    "\n",
    "def stat_intervals(stat, alpha=0.05):\n",
    "    boundaries = np.percentile(stat, [100 * alpha / 2., 100 * (1 - alpha / 2.)])\n",
    "    return boundaries\n",
    "\n",
    "def get_general_sample(n, success_cnt):\n",
    "    return np.array([1] * success_cnt + [0] * (n - success_cnt))\n",
    "\n",
    "def get_odds(sample):\n",
    "    return odds(float(sum(sample)) / len(sample))\n",
    "\n",
    "def get_odds_ratio(sample_pair):\n",
    "    return get_odds(sample_pair[0]) / get_odds(sample_pair[1])\n",
    "\n",
    "placebo_gen_sample = get_general_sample(n_placebo, heart_attack_placebo)\n",
    "aspirin_gen_sample = get_general_sample(n_aspirin, heart_attack_aspirin)\n",
    "\n",
    "np.random.seed(0)\n",
    "\n",
    "pseudosamples = zip(\n",
    "    get_bootstrap_samples(placebo_gen_sample, 1000),\n",
    "    get_bootstrap_samples(aspirin_gen_sample, 1000)\n",
    ")\n",
    "\n",
    "odds_ratios = list(map(get_odds_ratio, pseudosamples))\n",
    "\n",
    "print r4s(odds_ratios[:3])\n",
    "\n",
    "odds_confint = stat_intervals(odds_ratios)\n",
    "print r4s(odds_confint)\n",
    "\n",
    "r4(odds_confint[0])"
   ]
  }
 ],
 "metadata": {
  "kernelspec": {
   "display_name": "Python 2",
   "language": "python",
   "name": "python2"
  },
  "language_info": {
   "codemirror_mode": {
    "name": "ipython",
    "version": 2
   },
   "file_extension": ".py",
   "mimetype": "text/x-python",
   "name": "python",
   "nbconvert_exporter": "python",
   "pygments_lexer": "ipython2",
   "version": "2.7.14"
  }
 },
 "nbformat": 4,
 "nbformat_minor": 2
}
