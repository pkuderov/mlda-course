{
 "cells": [
  {
   "cell_type": "markdown",
   "metadata": {},
   "source": [
    "# Градиентный бустинг своими руками\n",
    "\n",
    "**Внимание:** в тексте задания произошли изменения - поменялось число деревьев (теперь 50), правило изменения величины шага в задании 3 и добавился параметр `random_state` у решающего дерева. Правильные ответы не поменялись, но теперь их проще получить. Также исправлена опечатка в функции `gbm_predict`."
   ]
  },
  {
   "cell_type": "code",
   "execution_count": 1,
   "metadata": {
    "collapsed": true
   },
   "outputs": [
    {
     "data": {
      "image/png": "[encoded data removed]",
      "text/plain": [
       "<Figure size 1728x72 with 1 Axes>"
      ]
     },
     "metadata": {
      "needs_background": "light"
     },
     "output_type": "display_data"
    }
   ],
   "source": [
    "import pandas as pd\n",
    "import numpy as np\n",
    "import matplotlib as mpl\n",
    "import matplotlib.pyplot as plt\n",
    "import scipy.stats as sts\n",
    "import seaborn as sns\n",
    "from contextlib import contextmanager\n",
    "\n",
    "sns.set()\n",
    "sns.set_style(\"whitegrid\")\n",
    "\n",
    "color_palette = sns.color_palette('deep') + sns.color_palette('husl', 6) + sns.color_palette('bright') + sns.color_palette('pastel')\n",
    "\n",
    "%matplotlib inline\n",
    "sns.palplot(color_palette)\n",
    "\n",
    "# will be in numpy >= 1.15\n",
    "@contextmanager\n",
    "def printoptions(*args, **kwargs):\n",
    "    original = np.get_printoptions()\n",
    "    np.set_printoptions(*args, **kwargs)\n",
    "    try:\n",
    "        yield\n",
    "    finally: \n",
    "        np.set_printoptions(**original)\n",
    "        \n",
    "def ndprint(a, precision=3):\n",
    "    with printoptions(precision=precision, suppress=True):\n",
    "        print(a)"
   ]
  },
  {
   "cell_type": "code",
   "execution_count": 123,
   "metadata": {},
   "outputs": [],
   "source": [
    "from sklearn import datasets, metrics, model_selection as mdsel, tree, ensemble"
   ]
  },
  {
   "cell_type": "markdown",
   "metadata": {},
   "source": [
    "В этом задании будет использоваться датасет `boston` из `sklearn.datasets`. Оставьте последние 25% объектов для контроля качества, разделив `X` и `y` на `X_train`, `y_train` и `X_test`, `y_test`.\n",
    "\n",
    "Целью задания будет реализовать простой вариант градиентного бустинга над регрессионными деревьями для случая квадратичной функции потерь."
   ]
  },
  {
   "cell_type": "code",
   "execution_count": 124,
   "metadata": {},
   "outputs": [
    {
     "name": "stdout",
     "output_type": "stream",
     "text": [
      "[  0.006  18.      2.31    0.      0.538   6.575  65.2     4.09    1.\n",
      " 296.     15.3   396.9     4.98 ]\n"
     ]
    }
   ],
   "source": [
    "data, labels = datasets.load_boston(return_X_y=True)\n",
    "ndprint(data[0])"
   ]
  },
  {
   "cell_type": "code",
   "execution_count": 127,
   "metadata": {},
   "outputs": [],
   "source": [
    "X_train, X_test, y_train, y_test = mdsel.train_test_split(data, labels, shuffle=False, stratify=None)"
   ]
  },
  {
   "cell_type": "code",
   "execution_count": 128,
   "metadata": {},
   "outputs": [
    {
     "data": {
      "text/plain": [
       "((379, 13), (127, 13), (379,))"
      ]
     },
     "execution_count": 128,
     "metadata": {},
     "output_type": "execute_result"
    }
   ],
   "source": [
    "X_train.shape, X_test.shape, y_train.shape"
   ]
  },
  {
   "cell_type": "markdown",
   "metadata": {},
   "source": [
    "## Задание 1\n",
    "\n",
    "Как вы уже знаете из лекций, **бустинг** - это метод построения композиций базовых алгоритмов с помощью последовательного добавления к текущей композиции нового алгоритма с некоторым коэффициентом. \n",
    "\n",
    "Градиентный бустинг обучает каждый новый алгоритм так, чтобы он приближал антиградиент ошибки по ответам композиции на обучающей выборке. Аналогично минимизации функций методом градиентного спуска, в градиентном бустинге мы подправляем композицию, изменяя алгоритм в направлении антиградиента ошибки.\n",
    "\n",
    "Воспользуйтесь формулой из лекций, задающей ответы на обучающей выборке, на которые нужно обучать новый алгоритм (фактически это лишь чуть более подробно расписанный градиент от ошибки), и получите частный ее случай, если функция потерь `L` - квадрат отклонения ответа композиции `a(x)` от правильного ответа `y` на данном `x`.\n",
    "\n",
    "Если вы давно не считали производную самостоятельно, вам поможет таблица производных элементарных функций (которую несложно найти в интернете) и правило дифференцирования сложной функции. После дифференцирования квадрата у вас возникнет множитель 2 — т.к. нам все равно предстоит выбирать коэффициент, с которым будет добавлен новый базовый алгоритм, проигноируйте этот множитель при дальнейшем построении алгоритма."
   ]
  },
  {
   "cell_type": "markdown",
   "metadata": {},
   "source": [
    "Если $ z = a_n(x) $, то ошибка на одном объекте выборки: $ err(z, y) = z - y $\n",
    "\n",
    "Общая ошибка на выборке для случая MSE: $ L(z, y) = err^T * err $\n",
    "\n",
    "Дифференциалы:\n",
    "$\n",
    "d(err) = 1 * dz \\\\\n",
    "d(L) = 2 * err * d(err) \\\\\n",
    "$\n",
    "\n",
    "Получаем градиент ошибки:\n",
    "$\n",
    "\\nabla_z{L} = 2 * err = 2 * (z - y)\n",
    "$"
   ]
  },
  {
   "cell_type": "code",
   "execution_count": 129,
   "metadata": {},
   "outputs": [],
   "source": [
    "def write_answer(result, ans_ind):\n",
    "    path = f'out/20_grad_boosting{ans_ind}.txt'\n",
    "    result_str = result if isinstance(result, str) else str(result)\n",
    "    with open(path, \"w\") as fout:\n",
    "        fout.write(result_str)"
   ]
  },
  {
   "cell_type": "markdown",
   "metadata": {},
   "source": [
    "## Задание 2\n",
    "\n",
    "Заведите массив для объектов `DecisionTreeRegressor` (будем их использовать в качестве базовых алгоритмов) и для вещественных чисел (это будут коэффициенты перед базовыми алгоритмами). \n",
    "\n",
    "В цикле от обучите последовательно 50 решающих деревьев с параметрами `max_depth=5` и `random_state=42` (остальные параметры - по умолчанию). В бустинге зачастую используются сотни и тысячи деревьев, но мы ограничимся 50, чтобы алгоритм работал быстрее, и его было проще отлаживать (т.к. цель задания разобраться, как работает метод). Каждое дерево должно обучаться на одном и том же множестве объектов, но ответы, которые учится прогнозировать дерево, будут меняться в соответствие с полученным в задании 1 правилом. \n",
    "\n",
    "Попробуйте для начала всегда брать коэффициент равным 0.9. Обычно оправдано выбирать коэффициент значительно меньшим - порядка 0.05 или 0.1, но т.к. в нашем учебном примере на стандартном датасете будет всего 50 деревьев, возьмем для начала шаг побольше.\n",
    "\n",
    "В процессе реализации обучения вам потребуется функция, которая будет вычислять прогноз построенной на данный момент композиции деревьев на выборке `X`:\n",
    "\n",
    "```\n",
    "def gbm_predict(X):\n",
    "    return [sum([coeff * algo.predict([x])[0] for algo, coeff in zip(base_algorithms_list, coefficients_list)]) for x in X]\n",
    "(считаем, что base_algorithms_list - список с базовыми алгоритмами, coefficients_list - список с коэффициентами перед алгоритмами)\n",
    "```\n",
    "\n",
    "Эта же функция поможет вам получить прогноз на контрольной выборке и оценить качество работы вашего алгоритма с помощью `mean_squared_error` в `sklearn.metrics`. \n",
    "\n",
    "Возведите результат в степень 0.5, чтобы получить `RMSE`. Полученное значение `RMSE` — **ответ в пункте 2**."
   ]
  },
  {
   "cell_type": "code",
   "execution_count": 139,
   "metadata": {
    "collapsed": true
   },
   "outputs": [
    {
     "name": "stdout",
     "output_type": "stream",
     "text": [
      "[[0.002584474299324061], [5.455565103009402]]\n"
     ]
    },
    {
     "data": {
      "image/png": "[encoded data removed]",
      "text/plain": [
       "<Figure size 432x288 with 1 Axes>"
      ]
     },
     "metadata": {
      "needs_background": "light"
     },
     "output_type": "display_data"
    },
    {
     "name": "stdout",
     "output_type": "stream",
     "text": [
      "Wall time: 2.73 s\n"
     ]
    }
   ],
   "source": [
    "%%time\n",
    "\n",
    "def predict(a, X):\n",
    "    if len(a) == 0:\n",
    "        return np.zeros(X.shape[0])\n",
    "    predictions = np.array([coef * b.predict(X) for b, coef in a])\n",
    "    return np.sum(predictions, axis=0)\n",
    "\n",
    "def get_error(a, X, y, bias=0.):\n",
    "    mse = metrics.mean_squared_error(y, predict(a, X) + bias)\n",
    "    return np.sqrt(mse)\n",
    "\n",
    "def train_grad_boosting(X_train, y_train, n, coef, bias=0.):\n",
    "    a = []    \n",
    "    for i in range(0, n):\n",
    "        z = predict(a, X_train) + bias\n",
    "        s = y_train - z\n",
    "\n",
    "        b = tree.DecisionTreeRegressor(max_depth=5, random_state=42)\n",
    "        b.fit(X_train, s)\n",
    "\n",
    "        a.append((b, coef))\n",
    "    return a\n",
    "\n",
    "def fit_predict(coefs):\n",
    "    as_ = [train_grad_boosting(X_train, y_train, 50, coef) for coef in coefs]\n",
    "    ys_train = [get_error(a, X_train, y_train) for a in as_]\n",
    "    ys_test = [get_error(a, X_test, y_test) for a in as_]\n",
    "    return ys_train, ys_test\n",
    "\n",
    "result_train, result_test = fit_predict([0.9])\n",
    "ndprint([result_train, result_test])\n",
    "write_answer(result_test[0], 2)\n",
    "\n",
    "coefs = np.linspace(0., 2., 10)\n",
    "ys_train, ys_test = fit_predict(coefs)\n",
    "\n",
    "plt.plot(coefs, ys_train, label='train', color=color_palette[0])\n",
    "plt.plot(coefs, ys_test, label='test', color=color_palette[2])\n",
    "plt.show()"
   ]
  },
  {
   "cell_type": "markdown",
   "metadata": {},
   "source": [
    "## Задание 3\n",
    "\n",
    "Вас может также беспокоить, что двигаясь с постоянным шагом, вблизи минимума ошибки ответы на обучающей выборке меняются слишком резко, перескакивая через минимум. \n",
    "\n",
    "Попробуйте уменьшать вес перед каждым алгоритмом с каждой следующей итерацией по формуле `0.9 / (1.0 + i)`, где `i` - номер итерации (от 0 до 49). Используйте качество работы алгоритма как **ответ в пункте 3**. \n",
    "\n",
    "В реальности часто применяется следующая стратегия выбора шага: как только выбран алгоритм, подберем коэффициент перед ним численным методом оптимизации таким образом, чтобы отклонение от правильных ответов было минимальным. Мы не будем предлагать вам реализовать это для выполнения задания, но рекомендуем попробовать разобраться с такой стратегией и реализовать ее при случае для себя."
   ]
  },
  {
   "cell_type": "code",
   "execution_count": 140,
   "metadata": {
    "collapsed": true
   },
   "outputs": [
    {
     "name": "stdout",
     "output_type": "stream",
     "text": [
      "[[0.9282663207292292], [4.812550945781193]]\n"
     ]
    },
    {
     "data": {
      "image/png": "[encoded data removed]",
      "text/plain": [
       "<Figure size 432x288 with 1 Axes>"
      ]
     },
     "metadata": {
      "needs_background": "light"
     },
     "output_type": "display_data"
    },
    {
     "name": "stdout",
     "output_type": "stream",
     "text": [
      "Wall time: 2.88 s\n"
     ]
    }
   ],
   "source": [
    "%%time\n",
    "\n",
    "def predict(a, X):\n",
    "    predictions = np.array([coef * b.predict(X) for b, coef in a])\n",
    "    return np.sum(predictions, axis=0)\n",
    "\n",
    "def get_error(a, X, y, bias=0.):\n",
    "    mse = metrics.mean_squared_error(y, predict(a, X) + bias)\n",
    "    return np.sqrt(mse)\n",
    "\n",
    "def train_grad_boosting(X_train, y_train, n, coef, bias=0.):\n",
    "    a = []    \n",
    "    for i in range(0, n):\n",
    "        z = predict(a, X_train) + bias\n",
    "        s = y_train - z\n",
    "\n",
    "        b = tree.DecisionTreeRegressor(max_depth=5, random_state=42)\n",
    "        b.fit(X_train, s)\n",
    "\n",
    "        a.append((b, coef / (1. + i)))        \n",
    "    return a\n",
    "\n",
    "def fit_predict(coefs):\n",
    "    as_ = [train_grad_boosting(X_train, y_train, 50, coef) for coef in coefs]\n",
    "    ys_train = [get_error(a, X_train, y_train) for a in as_]\n",
    "    ys_test = [get_error(a, X_test, y_test) for a in as_]\n",
    "    return ys_train, ys_test\n",
    "\n",
    "result_train, result_test = fit_predict([0.9])\n",
    "ndprint([result_train, result_test])\n",
    "write_answer(result_test[0], 3)\n",
    "\n",
    "coefs = np.linspace(0., 2., 10)\n",
    "ys_train, ys_test = fit_predict(coefs)\n",
    "\n",
    "plt.plot(coefs, ys_train, label='train', color=color_palette[0])\n",
    "plt.plot(coefs, ys_test, label='test', color=color_palette[2])\n",
    "plt.show()"
   ]
  },
  {
   "cell_type": "markdown",
   "metadata": {},
   "source": [
    "## Задание 4\n",
    "\n",
    "Реализованный вами метод - градиентный бустинг над деревьями - очень популярен в машинном обучении. Он представлен как в самой библиотеке `sklearn`, так и в сторонней библиотеке `XGBoost`, которая имеет свой питоновский интерфейс. На практике `XGBoost` работает заметно лучше `GradientBoostingRegressor` из `sklearn`, но для этого задания вы можете использовать любую реализацию. \n",
    "\n",
    "Исследуйте, переобучается ли градиентный бустинг с ростом числа итераций (и подумайте, почему), а также с ростом глубины деревьев. На основе наблюдений выпишите через пробел номера правильных из приведенных ниже утверждений в порядке возрастания номера (это будет **ответ в п.4**):\n",
    "\n",
    "    1. С увеличением числа деревьев, начиная с некоторого момента, качество работы градиентного бустинга не меняется существенно.\n",
    "\n",
    "    2. С увеличением числа деревьев, начиная с некоторого момента, градиентный бустинг начинает переобучаться.\n",
    "\n",
    "    3. С ростом глубины деревьев, начиная с некоторого момента, качество работы градиентного бустинга на тестовой выборке начинает ухудшаться.\n",
    "\n",
    "    4. С ростом глубины деревьев, начиная с некоторого момента, качество работы градиентного бустинга перестает существенно изменяться"
   ]
  },
  {
   "cell_type": "code",
   "execution_count": 190,
   "metadata": {
    "collapsed": true
   },
   "outputs": [
    {
     "data": {
      "image/png": "[encoded data removed]",
      "text/plain": [
       "<Figure size 432x288 with 1 Axes>"
      ]
     },
     "metadata": {
      "needs_background": "light"
     },
     "output_type": "display_data"
    },
    {
     "name": "stdout",
     "output_type": "stream",
     "text": [
      "[3.722 4.103]\n",
      "Wall time: 2.98 s\n"
     ]
    }
   ],
   "source": [
    "%%time\n",
    "\n",
    "def predict(a, X):\n",
    "    predictions = np.array([coef * b.predict(X) for b, coef in a])\n",
    "    return np.sum(predictions, axis=0)\n",
    "\n",
    "def get_error(a, X, y, bias=0.):\n",
    "    mse = metrics.mean_squared_error(y, predict(a, X) + bias)\n",
    "    return np.sqrt(mse)\n",
    "\n",
    "def train_grad_boosting(X_train, y_train, n, coef, max_depth, bias=0.):\n",
    "    a = []    \n",
    "    for i in range(0, n):\n",
    "        z = predict(a, X_train) + bias\n",
    "        s = y_train - z\n",
    "\n",
    "        b = tree.DecisionTreeRegressor(max_depth=max_depth, random_state=42)\n",
    "        b.fit(X_train, s)\n",
    "\n",
    "        a.append((b, coef / (1. + i)))        \n",
    "    return a\n",
    "\n",
    "def fit_predict_coefs(coefs):\n",
    "    as_ = [train_grad_boosting(X_train, y_train, 50, coef, 5) for coef in coefs]\n",
    "    ys_train = [get_error(a, X_train, y_train) for a in as_]\n",
    "    ys_test = [get_error(a, X_test, y_test) for a in as_]\n",
    "    return ys_train, ys_test\n",
    "\n",
    "def fit_predict_ns(coef, ns):\n",
    "    as_ = [train_grad_boosting(X_train, y_train, n, coef, 5) for n in ns]\n",
    "    ys_train = [get_error(a, X_train, y_train) for a in as_]\n",
    "    ys_test = [get_error(a, X_test, y_test) for a in as_]\n",
    "    return ys_train, ys_test\n",
    "\n",
    "def fit_predict_depth(coef, n, max_depths):\n",
    "    as_ = [train_grad_boosting(X_train, y_train, n, coef, max_depth) for max_depth in max_depths]\n",
    "    ys_train = [get_error(a, X_train, y_train) for a in as_]\n",
    "    ys_test = [get_error(a, X_test, y_test) for a in as_]\n",
    "    return ys_train, ys_test\n",
    "\n",
    "write_answer('2 3', 4)\n",
    "\n",
    "coefs = np.linspace(0., 2., 10)\n",
    "ns = np.arange(5, 151, 15)\n",
    "max_depths = [1, 2, 3, 5, 7, 10, 14, 20]\n",
    "\n",
    "# xs = coefs\n",
    "# ys_train, ys_test = fit_predict_coefs(coefs)\n",
    "\n",
    "# xs = ns\n",
    "# ys_train, ys_test = fit_predict_ns(0.4, ns)\n",
    "\n",
    "xs = max_depths\n",
    "ys_train, ys_test = fit_predict_depth(0.4, 50, max_depths)\n",
    "\n",
    "plt.plot(xs, ys_train, label='train', color=color_palette[0])\n",
    "plt.plot(xs, ys_test, label='test', color=color_palette[2])\n",
    "plt.show()\n",
    "\n",
    "ndprint(np.min([ys_train, ys_test], axis=1))"
   ]
  },
  {
   "cell_type": "markdown",
   "metadata": {},
   "source": [
    "## Задание 5\n",
    "\n",
    "Сравните получаемое с помощью градиентного бустинга качество с качеством работы линейной регрессии. \n",
    "\n",
    "Для этого обучите `LinearRegression` из `sklearn.linear_model` (с параметрами по умолчанию) на обучающей выборке и оцените для прогнозов полученного алгоритма на тестовой выборке `RMSE`. Полученное качество - ответ в **пункте 5**. \n",
    "\n",
    "В данном примере качество работы простой модели должно было оказаться хуже, но не стоит забывать, что так бывает не всегда. В заданиях к этому курсу вы еще встретите пример обратной ситуации."
   ]
  },
  {
   "cell_type": "code",
   "execution_count": 194,
   "metadata": {
    "collapsed": true
   },
   "outputs": [],
   "source": [
    "from sklearn.linear_model import LinearRegression\n",
    "\n",
    "linreg = LinearRegression()\n",
    "linreg.fit(X_train, y_train)\n",
    "\n",
    "predictions = linreg.predict(X_test)\n",
    "linreg_score = np.sqrt(metrics.mean_squared_error(y_test, predictions))\n",
    "\n",
    "write_answer(linreg_score, 5)"
   ]
  }
 ],
 "metadata": {
  "kernelspec": {
   "display_name": "Python 3",
   "language": "python",
   "name": "python3"
  },
  "language_info": {
   "codemirror_mode": {
    "name": "ipython",
    "version": 3
   },
   "file_extension": ".py",
   "mimetype": "text/x-python",
   "name": "python",
   "nbconvert_exporter": "python",
   "pygments_lexer": "ipython3",
   "version": "3.6.7"
  }
 },
 "nbformat": 4,
 "nbformat_minor": 2
}
