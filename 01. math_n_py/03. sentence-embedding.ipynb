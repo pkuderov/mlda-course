{
 "cells": [
  {
   "cell_type": "code",
   "execution_count": 3,
   "metadata": {},
   "outputs": [
    {
     "data": {
      "text/plain": [
       "['in',\n",
       " 'comparison',\n",
       " 'to',\n",
       " 'dogs',\n",
       " 'cats',\n",
       " 'have',\n",
       " 'not',\n",
       " 'undergone',\n",
       " 'major',\n",
       " 'changes',\n",
       " 'during',\n",
       " 'the',\n",
       " 'domestication',\n",
       " 'process',\n",
       " '']"
      ]
     },
     "execution_count": 3,
     "metadata": {},
     "output_type": "execute_result"
    }
   ],
   "source": [
    "import numpy as np\n",
    "import re\n",
    "\n",
    "with open('data/03. sentences.txt', 'r') as f_snts:\n",
    "    raw_sentences = [s.strip().lower() for s in f_snts.readlines()]\n",
    "    \n",
    "re.split(r'\\W+', raw_sentences[0])"
   ]
  },
  {
   "cell_type": "code",
   "execution_count": 4,
   "metadata": {},
   "outputs": [],
   "source": [
    "tokenized_sentences = [[word for word in re.split(r'[^a-z]', sentence) if word] for sentence in raw_sentences]"
   ]
  },
  {
   "cell_type": "code",
   "execution_count": 5,
   "metadata": {},
   "outputs": [],
   "source": [
    "from collections import Counter\n",
    "\n",
    "words = Counter([word for sentence in tokenized_sentences for word in sentence])\n",
    "\n",
    "ind_2_word = list(words)\n",
    "word_2_ind = dict([(w,i) for i,w in enumerate(ind_2_word)])"
   ]
  },
  {
   "cell_type": "code",
   "execution_count": 6,
   "metadata": {},
   "outputs": [],
   "source": [
    "#[[word_2_ind[word] for word in sentence] for sentence in tokenized_sentences]\n",
    "A = np.zeros((len(tokenized_sentences), len(words)), dtype=np.float32)\n",
    "for i,j in [(i, word_2_ind[w]) for i,s in enumerate(tokenized_sentences) for w in s]:\n",
    "    A[i,j] += 1"
   ]
  },
  {
   "cell_type": "code",
   "execution_count": 7,
   "metadata": {},
   "outputs": [
    {
     "data": {
      "text/plain": [
       "array([[1., 1., 1., ..., 0., 0., 0.],\n",
       "       [0., 0., 1., ..., 0., 0., 0.],\n",
       "       [0., 0., 2., ..., 0., 0., 0.],\n",
       "       ...,\n",
       "       [0., 0., 0., ..., 0., 0., 0.],\n",
       "       [1., 0., 1., ..., 0., 0., 0.],\n",
       "       [0., 0., 1., ..., 1., 1., 1.]], dtype=float32)"
      ]
     },
     "execution_count": 7,
     "metadata": {},
     "output_type": "execute_result"
    }
   ],
   "source": [
    "A"
   ]
  },
  {
   "cell_type": "code",
   "execution_count": 8,
   "metadata": {},
   "outputs": [
    {
     "data": {
      "text/plain": [
       "0.9999999403953552"
      ]
     },
     "execution_count": 8,
     "metadata": {},
     "output_type": "execute_result"
    }
   ],
   "source": [
    "norms = np.sqrt(np.sum(np.square(A), axis=1))\n",
    "A_norm = A / norms[:, np.newaxis]\n",
    "sum(A_norm[0, :] ** 2)"
   ]
  },
  {
   "cell_type": "code",
   "execution_count": 9,
   "metadata": {},
   "outputs": [],
   "source": [
    "cosine = np.matmul(A_norm, A_norm.T)"
   ]
  },
  {
   "cell_type": "code",
   "execution_count": 10,
   "metadata": {},
   "outputs": [
    {
     "data": {
      "text/plain": [
       "array([1.   , 0.047, 0.136, 0.105, 0.223, 0.06 , 0.267, 0.074, 0.116,\n",
       "       0.094, 0.167, 0.12 , 0.16 , 0.13 , 0.126, 0.056, 0.159, 0.043,\n",
       "       0.056, 0.111, 0.157, 0.175], dtype=float32)"
      ]
     },
     "execution_count": 10,
     "metadata": {},
     "output_type": "execute_result"
    }
   ],
   "source": [
    "np.array([round(x, 3) for x in cosine[0,:]])"
   ]
  },
  {
   "cell_type": "code",
   "execution_count": 32,
   "metadata": {},
   "outputs": [
    {
     "data": {
      "text/plain": [
       "array([21,  1,  2,  3,  4,  5,  6,  7,  8,  9, 10, 11, 12, 13, 14, 15, 16,\n",
       "       17, 18, 19, 20,  0], dtype=int64)"
      ]
     },
     "execution_count": 32,
     "metadata": {},
     "output_type": "execute_result"
    }
   ],
   "source": [
    "np.argpartition(cosine[0,:], -1)"
   ]
  },
  {
   "cell_type": "code",
   "execution_count": 12,
   "metadata": {},
   "outputs": [
    {
     "data": {
      "text/plain": [
       "array([[ 4,  6],\n",
       "       [12,  9],\n",
       "       [ 9,  8],\n",
       "       [ 4,  6],\n",
       "       [13,  9],\n",
       "       [12,  6],\n",
       "       [13,  5],\n",
       "       [ 2, 10],\n",
       "       [10,  2],\n",
       "       [ 4,  2],\n",
       "       [ 8, 12],\n",
       "       [ 8,  2],\n",
       "       [ 6, 10],\n",
       "       [17,  6],\n",
       "       [21, 16],\n",
       "       [17, 21],\n",
       "       [14, 17],\n",
       "       [21, 18],\n",
       "       [21, 17],\n",
       "       [21, 18],\n",
       "       [17, 21],\n",
       "       [14, 17]], dtype=int64)"
      ]
     },
     "execution_count": 12,
     "metadata": {},
     "output_type": "execute_result"
    }
   ],
   "source": [
    "nearest = np.argsort(cosine, axis = 1)[:, -3:-1]\n",
    "nearest"
   ]
  },
  {
   "cell_type": "code",
   "execution_count": 33,
   "metadata": {},
   "outputs": [
    {
     "data": {
      "text/plain": [
       "[[0.22291128, 0.26726124],\n",
       " [0.24748738, 0.28125],\n",
       " [0.44821072, 0.4635525],\n",
       " [0.16357216, 0.19611613],\n",
       " [0.25286087, 0.36860487],\n",
       " [0.2236068, 0.31304953],\n",
       " [0.29104277, 0.31304953],\n",
       " [0.28128433, 0.28915745],\n",
       " [0.391254, 0.4635525],\n",
       " [0.36860487, 0.44821072],\n",
       " [0.391254, 0.4170288],\n",
       " [0.2581989, 0.34016803],\n",
       " [0.28, 0.4170288],\n",
       " [0.2754113, 0.29104277],\n",
       " [0.36004117, 0.38650063],\n",
       " [0.30442953, 0.31851098],\n",
       " [0.38650063, 0.38692066],\n",
       " [0.38939574, 0.5073825],\n",
       " [0.31851098, 0.5073825],\n",
       " [0.27300942, 0.3043478],\n",
       " [0.28632814, 0.29957232],\n",
       " [0.36004117, 0.38939574]]"
      ]
     },
     "execution_count": 33,
     "metadata": {},
     "output_type": "execute_result"
    }
   ],
   "source": [
    "[[cosine[i,j] for j in r] for i, r in enumerate(nearest)]"
   ]
  },
  {
   "cell_type": "markdown",
   "metadata": {},
   "source": [
    "___\n",
    "\n",
    "## Submission"
   ]
  },
  {
   "cell_type": "code",
   "execution_count": 40,
   "metadata": {},
   "outputs": [
    {
     "name": "stdout",
     "output_type": "stream",
     "text": [
      "4 6\n"
     ]
    }
   ],
   "source": [
    "with open('out/03. submission.txt', mode='w') as f_out:\n",
    "    output = '{0} {1}'.format(nearest[0,0], nearest[0,1])\n",
    "    print(output)\n",
    "    f_out.write(output)"
   ]
  }
 ],
 "metadata": {
  "kernelspec": {
   "display_name": "Python 3",
   "language": "python",
   "name": "python3"
  },
  "language_info": {
   "codemirror_mode": {
    "name": "ipython",
    "version": 3
   },
   "file_extension": ".py",
   "mimetype": "text/x-python",
   "name": "python",
   "nbconvert_exporter": "python",
   "pygments_lexer": "ipython3",
   "version": "3.6.5"
  }
 },
 "nbformat": 4,
 "nbformat_minor": 2
}
