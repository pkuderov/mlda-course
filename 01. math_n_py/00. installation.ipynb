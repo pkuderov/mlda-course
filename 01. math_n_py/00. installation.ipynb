{
 "cells": [
  {
   "cell_type": "markdown",
   "metadata": {},
   "source": [
    "# Установка Python"
   ]
  },
  {
   "cell_type": "markdown",
   "metadata": {},
   "source": [
    "1. Создайте новую ячейку. В ней импортируйте библиотеку numpy (import numpy) и выведите на экран версию библиотеки (numpy.__version__)\n",
    "1. Создайте новую ячейку. В ней импортируйте библиотеку scipy (import scipy) и выведите на экран версию библиотеки (scipy.__version__)\n",
    "1. Создайте новую ячейку. В ней импортируйте библиотеку pandas (import pandas) и выведите на экран версию библиотеки (pandas.__version__)\n",
    "1. Создайте новую ячейку. В ней импортируйте библиотеку matplotlib (import matplotlib) и выведите на экран версию библиотеки (matplotlib.__version__)"
   ]
  },
  {
   "cell_type": "code",
   "execution_count": 2,
   "metadata": {},
   "outputs": [
    {
     "name": "stdout",
     "output_type": "stream",
     "text": [
      "1.14.2\n",
      "1.1.0\n",
      "0.23.0\n"
     ]
    }
   ],
   "source": [
    "import numpy\n",
    "import scipy\n",
    "import pandas\n",
    "\n",
    "print(numpy.__version__)\n",
    "print(scipy.__version__)\n",
    "print(pandas.__version__)"
   ]
  },
  {
   "cell_type": "code",
   "execution_count": 3,
   "metadata": {},
   "outputs": [
    {
     "data": {
      "text/plain": [
       "'2.2.2'"
      ]
     },
     "execution_count": 3,
     "metadata": {},
     "output_type": "execute_result"
    }
   ],
   "source": [
    "import matplotlib\n",
    "matplotlib.__version__"
   ]
  },
  {
   "cell_type": "markdown",
   "metadata": {},
   "source": [
    "Сделайте скриншот №1, на котором будет хорошо видно результаты вашей работы, и загрузите его в форму."
   ]
  },
  {
   "cell_type": "markdown",
   "metadata": {},
   "source": [
    "___"
   ]
  },
  {
   "cell_type": "markdown",
   "metadata": {},
   "source": [
    "# Машинное обучение и анализ данных\n",
    "\n",
    "## Математика и Python\n",
    "\n",
    "Задание 1"
   ]
  },
  {
   "cell_type": "markdown",
   "metadata": {},
   "source": [
    "Сделайте скриншот №2, на котором будет хорошо видно результаты вашей работы, и загрузите его в форму."
   ]
  }
 ],
 "metadata": {
  "kernelspec": {
   "display_name": "Python 3",
   "language": "python",
   "name": "python3"
  },
  "language_info": {
   "codemirror_mode": {
    "name": "ipython",
    "version": 3
   },
   "file_extension": ".py",
   "mimetype": "text/x-python",
   "name": "python",
   "nbconvert_exporter": "python",
   "pygments_lexer": "ipython3",
   "version": "3.6.5"
  }
 },
 "nbformat": 4,
 "nbformat_minor": 2
}
